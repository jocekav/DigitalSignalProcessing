{
 "metadata": {
  "language_info": {
   "codemirror_mode": {
    "name": "ipython",
    "version": 3
   },
   "file_extension": ".py",
   "mimetype": "text/x-python",
   "name": "python",
   "nbconvert_exporter": "python",
   "pygments_lexer": "ipython3",
   "version": "3.8.3"
  },
  "orig_nbformat": 2,
  "kernelspec": {
   "name": "python38364bitbasecondaf3a336c616454822a6ab6ff9a48cf6c5",
   "display_name": "Python 3.8.3 64-bit ('base': conda)"
  },
  "metadata": {
   "interpreter": {
    "hash": "a127848a9391408cc5081dc318d995c3b5b3f67938f34b517db31da63ed0b1a5"
   }
  }
 },
 "nbformat": 4,
 "nbformat_minor": 2,
 "cells": [
  {
   "cell_type": "code",
   "execution_count": 2,
   "metadata": {},
   "outputs": [
    {
     "output_type": "execute_result",
     "data": {
      "text/plain": [
       "[<midi track 'Piano\\x00' 63 messages>]"
      ]
     },
     "metadata": {},
     "execution_count": 2
    }
   ],
   "source": [
    "import mido\n",
    "import string\n",
    "import numpy as np\n",
    "import scipy\n",
    "#mid = mido.MidiFile('.mid', clip=True)\n",
    "mid = mido.MidiFile('test.mid', clip=True)\n",
    "mid.tracks"
   ]
  },
  {
   "cell_type": "code",
   "execution_count": 3,
   "metadata": {},
   "outputs": [],
   "source": [
    "def convert_clocks_per_click(clocks_per_click, user_tempo):\n",
    "    sec_per_click = .6 / (user_tempo * clocks_per_click)\n",
    "    return sec_per_click"
   ]
  },
  {
   "cell_type": "code",
   "execution_count": 4,
   "metadata": {},
   "outputs": [],
   "source": [
    "def convert_velocity(midi_vel):\n",
    "    velocity = midi_vel / 127.0\n",
    "    return velocity"
   ]
  },
  {
   "cell_type": "code",
   "execution_count": 5,
   "metadata": {},
   "outputs": [],
   "source": [
    "def convert_frequency(midi_val):\n",
    "    reference = 440\n",
    "    frequency = (reference / 32) * (2 ** ((midi_val - 9) / 12))\n",
    "    return frequency"
   ]
  },
  {
   "cell_type": "code",
   "execution_count": 6,
   "metadata": {},
   "outputs": [],
   "source": [
    "def parse_MIDI(midi_file, user_tempo):\n",
    "    # ticks_per_quarter = <PPQ from the header>\n",
    "    # µs_per_quarter = <Tempo in latest Set Tempo event>\n",
    "    # µs_per_tick = µs_per_quarter / ticks_per_quarter\n",
    "    # seconds_per_tick = µs_per_tick / 1.000.000\n",
    "    # seconds = ticks * seconds_per_tick\n",
    "    clocks_per_click = 0\n",
    "    midi_info = []\n",
    "    note_value = 0\n",
    "    note_velocity = 0\n",
    "    note_dur = 0\n",
    "    sec_per_click = 0\n",
    "\n",
    "\n",
    "    mid = mido.MidiFile(midi_file, clip=True)\n",
    "    for i in range(0, 2):\n",
    "        for m in mid.tracks[i][:]:\n",
    "            print(m)\n",
    "            m = str(m)\n",
    "            if 'clocks_per_click' in m and clocks_per_click == 0:\n",
    "                # midi.append(m)\n",
    "                temp = m.partition(\"clocks_per_click=\")[2]\n",
    "                clocks_per_click = temp.partition(\" \")[0]\n",
    "                sec_per_click = convert_clocks_per_click(int(clocks_per_click), user_tempo)\n",
    "            if 'note_on' in m:\n",
    "                temp = m.partition(\"note=\")[2]\n",
    "                note_value = temp.partition(\" \")[0]\n",
    "                #convert to frequency\n",
    "                note_value = convert_frequency(int(note_value))\n",
    "                temp = m.partition(\"velocity=\")[2]\n",
    "                note_velocity = temp.partition(\" \")[0]\n",
    "                #convert to 0-1 amplitude\n",
    "                note_velocity = convert_velocity(int(note_velocity))\n",
    "            if 'note_off' in m:\n",
    "                note_dur = m.partition(\"time=\")[2]\n",
    "                #convert to seconds\n",
    "                note_dur = sec_per_click * int(note_dur)\n",
    "                if note_dur != 0:\n",
    "                    midi_info.append((note_value, note_velocity, note_dur))\n",
    "                # print(midi_info)\n",
    "    return midi_info"
   ]
  },
  {
   "cell_type": "code",
   "execution_count": 7,
   "metadata": {},
   "outputs": [
    {
     "output_type": "stream",
     "name": "stdout",
     "text": [
      "<meta message time_signature numerator=4 denominator=4 clocks_per_click=24 notated_32nd_notes_per_beat=8 time=0>\n<meta message key_signature key='C' time=0>\n<meta message set_tempo tempo=250000 time=0>\n<meta message copyright text='Copyright © ' time=0>\n<meta message time_signature numerator=10 denominator=4 clocks_per_click=24 notated_32nd_notes_per_beat=8 time=38400>\n<meta message time_signature numerator=6 denominator=4 clocks_per_click=72 notated_32nd_notes_per_beat=8 time=9600>\n<meta message end_of_track time=1>\nprogram_change channel=0 program=0 time=0\ncontrol_change channel=0 control=121 value=0 time=0\ncontrol_change channel=0 control=64 value=0 time=0\ncontrol_change channel=0 control=91 value=48 time=0\ncontrol_change channel=0 control=10 value=51 time=0\ncontrol_change channel=0 control=7 value=100 time=0\n<meta message track_name name='Piano' time=0>\npitchwheel channel=0 pitch=0 time=0\n<meta message lyrics text='1/1 ' time=0>\nnote_on channel=0 note=60 velocity=76 time=0\nnote_off channel=0 note=60 velocity=0 time=3840\npitchwheel channel=0 pitch=-2022 time=0\n<meta message lyrics text='12/11 ' time=0>\nnote_on channel=0 note=62 velocity=77 time=0\nnote_off channel=0 note=62 velocity=0 time=3840\npitchwheel channel=0 pitch=-241 time=0\n<meta message lyrics text='32/27 ' time=0>\nnote_on channel=0 note=63 velocity=77 time=0\nnote_off channel=0 note=63 velocity=0 time=3840\npitchwheel channel=0 pitch=1437 time=0\n<meta message lyrics text='9/7 ' time=0>\nnote_on channel=0 note=64 velocity=77 time=0\nnote_off channel=0 note=64 velocity=0 time=3840\npitchwheel channel=0 pitch=-81 time=0\n<meta message lyrics text='4/3 ' time=0>\nnote_on channel=0 note=65 velocity=77 time=0\nnote_off channel=0 note=65 velocity=0 time=3840\npitchwheel channel=0 pitch=1798 time=0\n<meta message lyrics text='132/91 ' time=0>\nnote_on channel=0 note=66 velocity=77 time=0\nnote_off channel=0 note=66 velocity=0 time=3840\npitchwheel channel=0 pitch=80 time=0\n<meta message lyrics text='3/2 ' time=0>\nnote_on channel=0 note=67 velocity=77 time=0\nnote_off channel=0 note=67 velocity=0 time=3840\npitchwheel channel=0 pitch=-1942 time=0\n<meta message lyrics text='18/11 ' time=0>\nnote_on channel=0 note=69 velocity=77 time=0\nnote_off channel=0 note=69 velocity=0 time=3840\npitchwheel channel=0 pitch=-161 time=0\n<meta message lyrics text='16/9 ' time=0>\nnote_on channel=0 note=70 velocity=77 time=0\nnote_off channel=0 note=70 velocity=0 time=3840\npitchwheel channel=0 pitch=1718 time=0\n<meta message lyrics text='176/91 ' time=0>\nnote_on channel=0 note=71 velocity=77 time=0\nnote_off channel=0 note=71 velocity=0 time=3840\npitchwheel channel=0 pitch=0 time=0\n<meta message lyrics text='2/1 ' time=0>\nnote_on channel=0 note=72 velocity=77 time=0\nnote_off channel=0 note=72 velocity=0 time=5760\npitchwheel channel=0 pitch=0 time=3840\nnote_on channel=0 note=60 velocity=76 time=0\nnote_on channel=0 note=72 velocity=76 time=0\nnote_off channel=0 note=60 velocity=0 time=5760\nnote_off channel=0 note=72 velocity=0 time=0\n<meta message end_of_track time=1>\n"
     ]
    }
   ],
   "source": [
    "note_list = parse_MIDI('scale.mid', 60)"
   ]
  },
  {
   "cell_type": "code",
   "execution_count": 8,
   "metadata": {},
   "outputs": [],
   "source": [
    "def genSine(frequency, duration, amplitude = 1, sampleRate = 48000, phase = 0):\n",
    "    \n",
    "    #creates a sine wave\n",
    "    \n",
    "    import numpy as np\n",
    "    \n",
    "    time = np.arange(0, duration, 1/sampleRate)\n",
    "    return amplitude * np.sin((2*np.pi * frequency * time) + phase)"
   ]
  },
  {
   "cell_type": "code",
   "execution_count": 9,
   "metadata": {},
   "outputs": [],
   "source": [
    "def adsr(x,a=.25,d=.25,s=.25,r=.25,fs=48000):\n",
    "    total_len = len(x)\n",
    "    a_len = int(.25 * len(x))\n",
    "    d_len = int(.25 * len(x))\n",
    "    s_len = int(.25 * len(x))\n",
    "    r_len = int(.25 * len(x))\n",
    "\n",
    "    xa= np.arange(0, a_len)                                                     #sets up size of attack portion\n",
    "    ya= np.linspace(0,np.max(x),xa.size)                                       #creates attack envelope\n",
    "\n",
    "    xd= np.arange(a_len, a_len+d_len)                                                 #sets up size of decay portion\n",
    "    yd= np.linspace(np.max(x),.5,xd.size)                                        #creates attack envelope\n",
    "\n",
    "    xs= np.arange(a_len+d_len, a_len+d_len+s_len)                               #sets up size of sustain portion\n",
    "    ys= np.linspace(.5,.5,xs.size)                                            #creates sustain envelope\n",
    "\n",
    "    xr= np.arange(a_len+d_len+s_len, a_len+d_len+s_len+r_len)               #sets up size of release portion\n",
    "    yr= np.linspace(.5,0,xr.size)\n",
    "\n",
    "    env=np.concatenate((ya,yd,ys,yr))                                          #creates full adsr envelope array\n",
    "    adsrnote=x*env[0:x.size]               \n",
    "                                               #applies adsr envelope to input array\n",
    "    return adsrnote"
   ]
  },
  {
   "cell_type": "code",
   "execution_count": 10,
   "metadata": {},
   "outputs": [],
   "source": [
    "def lfo(x, freq, amplitude=1, fs=48000):\n",
    "    t = np.arange(0,len(x)/fs,1/fs)\n",
    "    lfo = x * amplitude * np.cos(2*np.pi*freq*t)\n",
    "    return lfo"
   ]
  },
  {
   "cell_type": "code",
   "execution_count": 11,
   "metadata": {},
   "outputs": [],
   "source": [
    "def reverb(x, impulse):\n",
    "    fft_sig = scipy.fft.fft(x)\n",
    "    fft_impulse = scipy.fft.fft(impulse)\n",
    "    conv = fft_impulse * fft_sig\n",
    "    return scipy.fft.ifft(conv)\n",
    "    \n",
    "    # from scipy.io.wavfile import read\n",
    "\n",
    "    # fs, impulse = read('St Nicolaes Church.wav')\n",
    "    # impulse = np.transpose(impulse)[0]\n",
    "\n",
    "    # impulse = np.concatenate((impulse, np.zeros(len(play_list)-len(impulse))))\n",
    "    # impulse = impulse / np.max(impulse)\n",
    "    # play_list = np.real(reverb(play_list, impulse))\n"
   ]
  },
  {
   "cell_type": "code",
   "execution_count": 12,
   "metadata": {},
   "outputs": [],
   "source": [
    "#function that applies a low-pass filter\n",
    "#x is the original signal\n",
    "#cutoff is the cutoff frequency\n",
    "#order is the order of the filter\n",
    "def lowpass(x, cutoff=440, order=10, fs=48000):\n",
    "    nyq = 0.5 * fs\n",
    "    normal_cutoff = cutoff / nyq\n",
    "\n",
    "    from scipy.signal import butter, filtfilt\n",
    "\n",
    "    (b,a) = butter(order, normal_cutoff, btype = 'low', analog = False)\n",
    "    filt_sig = filtfilt(b,a,x)\n",
    "    \n",
    "    return filt_sig"
   ]
  },
  {
   "cell_type": "code",
   "execution_count": 27,
   "metadata": {},
   "outputs": [],
   "source": [
    "def flanger(x, delay_time=0.003, rate=.1, feedback_percent, fs=48000):\n",
    "    import math\n",
    "    ind = np.arange(0, len(x))\n",
    "    sine_osc = np.sin(2 * np.pi * ind * (rate/fs))\n",
    "    delay_samples = int(delay_time*fs)\n",
    "    x_zero = np.zeros(len(x))\n",
    "    x_zero[:delay_samples] = x[:delay_samples]\n",
    "    for i in range(delay_samples, len(x)):\n",
    "        abs_sin = abs(sine_osc[i])\n",
    "        cur_delay = math.ceil(abs_sin*delay_samples)\n",
    "        x_zero[i] = (feedback_percent * x[i]) + (feedback_percent * x[i-cur_delay])\n",
    "    return x_zero"
   ]
  },
  {
   "cell_type": "code",
   "execution_count": 82,
   "metadata": {},
   "outputs": [],
   "source": [
    "def wahwah(x, damping=0.05, min_freq=250, max_freq=5000, wah_freq=1000, fs=48000):\n",
    "    freq_change = wah_freq/fs\n",
    "    center_freq = np.arange(min_freq, max_freq, freq_change)\n",
    "    #create triangle wave of center frequencies\n",
    "    while len(center_freq) < len(x):\n",
    "        center_freq = center_freq[np.arange(max_freq,min_freq,-freq_change)]\n",
    "        center_freq = center_freq[np.arange(min_freq,max_freq,freq_change)]\n",
    "    center_freq = center_freq[0:len(x)]\n",
    "    # center_freq = np.ndarray.transpose(center_freq)\n",
    "    print(center_freq)\n",
    "\n",
    "    freq_coeff = 2 * np.sin((np.pi * center_freq[0]) / fs)\n",
    "    # print(center_freq)\n",
    "    q = 2 * damping\n",
    "\n",
    "    y_high = np.zeros(len(x))\n",
    "    y_band = np.zeros(len(x))\n",
    "    y_low = np.zeros(len(x))\n",
    "\n",
    "    y_high[0] = x[0]\n",
    "    y_band[0] = freq_coeff * y_high[0]\n",
    "    y_low[0] = freq_coeff * y_band[0]\n",
    "\n",
    "    for i in range(1, (len(center_freq))-1):\n",
    "        y_high[i] = x[i] - y_low[i-1] - (q * y_band[i-1])\n",
    "        y_band[i] = (freq_coeff * y_high[i]) + y_band[i-1]\n",
    "        y_low[i] = (freq_coeff * y_band[i]) + y_low[i-1]\n",
    "        freq_coeff = 2 * np.sin((np.pi * center_freq[i]) / fs)\n",
    "    \n",
    "    y_band = y_band / (max(abs(y_band)))\n",
    "    return y_band\n"
   ]
  },
  {
   "cell_type": "code",
   "execution_count": 162,
   "metadata": {},
   "outputs": [],
   "source": [
    "def wavetable(frequency, dur, fs=48000):\n",
    "    from matplotlib import pyplot as plt\n",
    "    # choose the wave type\n",
    "    t = np.arange(0,128/fs,1/fs)\n",
    "    wave = np.sin(2 * np.pi * 375 * np.arange(0,128/fs,1/fs))\n",
    "    plt.plot(t, wave)\n",
    "    wave = wave / max(wave)\n",
    "    # frequency to step size\n",
    "    step = (frequency * 128) / fs\n",
    "    # time to desired sample length (array length)\n",
    "    length = dur * fs\n",
    "    ind_arr = np.arange(0, length, step)\n",
    "    out = np.array([])\n",
    "    #read table\n",
    "    for i in ind_arr:\n",
    "        i = i % 128\n",
    "        if i != int(i):\n",
    "            floored = int(i)\n",
    "            next = floored + 1\n",
    "            decimal = i - floored\n",
    "            out = np.append(out, wave[floored] + decimal * (wave[next] - wave[floored]))\n",
    "        elif i == int(i):\n",
    "            out = np.append(out, wave[int(i)])\n",
    "    return out\n"
   ]
  },
  {
   "cell_type": "code",
   "execution_count": 159,
   "metadata": {},
   "outputs": [
    {
     "output_type": "execute_result",
     "data": {
      "text/plain": [
       "0.5"
      ]
     },
     "metadata": {},
     "execution_count": 159
    }
   ],
   "source": [
    "128.5 % 128"
   ]
  },
  {
   "cell_type": "code",
   "execution_count": 165,
   "metadata": {},
   "outputs": [
    {
     "output_type": "error",
     "ename": "IndexError",
     "evalue": "index 128 is out of bounds for axis 0 with size 128",
     "traceback": [
      "\u001b[0;31m---------------------------------------------------------------------------\u001b[0m",
      "\u001b[0;31mIndexError\u001b[0m                                Traceback (most recent call last)",
      "\u001b[0;32m<ipython-input-165-df4af0008e7e>\u001b[0m in \u001b[0;36m<module>\u001b[0;34m\u001b[0m\n\u001b[0;32m----> 1\u001b[0;31m \u001b[0msine\u001b[0m \u001b[0;34m=\u001b[0m \u001b[0mwavetable\u001b[0m\u001b[0;34m(\u001b[0m\u001b[0;36m187.5\u001b[0m\u001b[0;34m,\u001b[0m \u001b[0;36m1\u001b[0m\u001b[0;34m)\u001b[0m\u001b[0;34m\u001b[0m\u001b[0;34m\u001b[0m\u001b[0m\n\u001b[0m",
      "\u001b[0;32m<ipython-input-162-3f3abdd4ec31>\u001b[0m in \u001b[0;36mwavetable\u001b[0;34m(frequency, dur, fs)\u001b[0m\n\u001b[1;32m     19\u001b[0m             \u001b[0mnext\u001b[0m \u001b[0;34m=\u001b[0m \u001b[0mfloored\u001b[0m \u001b[0;34m+\u001b[0m \u001b[0;36m1\u001b[0m\u001b[0;34m\u001b[0m\u001b[0;34m\u001b[0m\u001b[0m\n\u001b[1;32m     20\u001b[0m             \u001b[0mdecimal\u001b[0m \u001b[0;34m=\u001b[0m \u001b[0mi\u001b[0m \u001b[0;34m-\u001b[0m \u001b[0mfloored\u001b[0m\u001b[0;34m\u001b[0m\u001b[0;34m\u001b[0m\u001b[0m\n\u001b[0;32m---> 21\u001b[0;31m             \u001b[0mout\u001b[0m \u001b[0;34m=\u001b[0m \u001b[0mnp\u001b[0m\u001b[0;34m.\u001b[0m\u001b[0mappend\u001b[0m\u001b[0;34m(\u001b[0m\u001b[0mout\u001b[0m\u001b[0;34m,\u001b[0m \u001b[0mwave\u001b[0m\u001b[0;34m[\u001b[0m\u001b[0mfloored\u001b[0m\u001b[0;34m]\u001b[0m \u001b[0;34m+\u001b[0m \u001b[0mdecimal\u001b[0m \u001b[0;34m*\u001b[0m \u001b[0;34m(\u001b[0m\u001b[0mwave\u001b[0m\u001b[0;34m[\u001b[0m\u001b[0mnext\u001b[0m\u001b[0;34m]\u001b[0m \u001b[0;34m-\u001b[0m \u001b[0mwave\u001b[0m\u001b[0;34m[\u001b[0m\u001b[0mfloored\u001b[0m\u001b[0;34m]\u001b[0m\u001b[0;34m)\u001b[0m\u001b[0;34m)\u001b[0m\u001b[0;34m\u001b[0m\u001b[0;34m\u001b[0m\u001b[0m\n\u001b[0m\u001b[1;32m     22\u001b[0m         \u001b[0;32melif\u001b[0m \u001b[0mi\u001b[0m \u001b[0;34m==\u001b[0m \u001b[0mint\u001b[0m\u001b[0;34m(\u001b[0m\u001b[0mi\u001b[0m\u001b[0;34m)\u001b[0m\u001b[0;34m:\u001b[0m\u001b[0;34m\u001b[0m\u001b[0;34m\u001b[0m\u001b[0m\n\u001b[1;32m     23\u001b[0m             \u001b[0mout\u001b[0m \u001b[0;34m=\u001b[0m \u001b[0mnp\u001b[0m\u001b[0;34m.\u001b[0m\u001b[0mappend\u001b[0m\u001b[0;34m(\u001b[0m\u001b[0mout\u001b[0m\u001b[0;34m,\u001b[0m \u001b[0mwave\u001b[0m\u001b[0;34m[\u001b[0m\u001b[0mint\u001b[0m\u001b[0;34m(\u001b[0m\u001b[0mi\u001b[0m\u001b[0;34m)\u001b[0m\u001b[0;34m]\u001b[0m\u001b[0;34m)\u001b[0m\u001b[0;34m\u001b[0m\u001b[0;34m\u001b[0m\u001b[0m\n",
      "\u001b[0;31mIndexError\u001b[0m: index 128 is out of bounds for axis 0 with size 128"
     ]
    }
   ],
   "source": [
    "sine = wavetable(187.5, 1)"
   ]
  },
  {
   "cell_type": "code",
   "execution_count": 164,
   "metadata": {},
   "outputs": [],
   "source": [
    "from IPython.display import Audio\n",
    "import scipy\n",
    "from scipy.io.wavfile import write\n",
    "write(\"test.wav\", 48000, sine)"
   ]
  },
  {
   "cell_type": "code",
   "execution_count": 119,
   "metadata": {},
   "outputs": [
    {
     "output_type": "stream",
     "name": "stdout",
     "text": [
      "[ 0.00000000e+00 -2.87383782e-16 -5.74767564e-16 ...  1.70218589e-14\n -8.27662913e-15 -3.35751172e-14]\n"
     ]
    }
   ],
   "source": [
    "print(sine)"
   ]
  },
  {
   "cell_type": "code",
   "execution_count": 102,
   "metadata": {},
   "outputs": [
    {
     "output_type": "execute_result",
     "data": {
      "text/plain": [
       "3"
      ]
     },
     "metadata": {},
     "execution_count": 102
    }
   ],
   "source": [
    "int(3.9)"
   ]
  },
  {
   "cell_type": "code",
   "execution_count": 23,
   "metadata": {},
   "outputs": [
    {
     "output_type": "execute_result",
     "data": {
      "text/plain": [
       "array([0, 2, 4])"
      ]
     },
     "metadata": {},
     "execution_count": 23
    }
   ],
   "source": [
    "np.arange(0, 5, 2)"
   ]
  },
  {
   "cell_type": "code",
   "execution_count": 25,
   "metadata": {},
   "outputs": [
    {
     "output_type": "execute_result",
     "data": {
      "text/plain": [
       "[(261.6255653005986, 0.5984251968503937, 1.5999999999999999),\n",
       " (293.66476791740763, 0.6062992125984252, 1.5999999999999999),\n",
       " (311.1269837220809, 0.6062992125984252, 1.5999999999999999),\n",
       " (329.62755691286986, 0.6062992125984252, 1.5999999999999999),\n",
       " (349.22823143300394, 0.6062992125984252, 1.5999999999999999),\n",
       " (369.9944227116344, 0.6062992125984252, 1.5999999999999999),\n",
       " (391.9954359817492, 0.6062992125984252, 1.5999999999999999),\n",
       " (440.0, 0.6062992125984252, 1.5999999999999999),\n",
       " (466.1637615180898, 0.6062992125984252, 1.5999999999999999),\n",
       " (493.88330125612424, 0.6062992125984252, 1.5999999999999999),\n",
       " (523.2511306011972, 0.6062992125984252, 2.4),\n",
       " (523.2511306011972, 0.5984251968503937, 2.4)]"
      ]
     },
     "metadata": {},
     "execution_count": 25
    }
   ],
   "source": [
    "note_list"
   ]
  },
  {
   "cell_type": "code",
   "execution_count": 84,
   "metadata": {},
   "outputs": [
    {
     "output_type": "stream",
     "name": "stdout",
     "text": [
      "[ 250.          250.02267574  250.04535147 ... 1849.93197279 1849.95464853\n",
      " 1849.97732426]\n",
      "[ 250.          250.02267574  250.04535147 ... 3449.93197279 3449.95464853\n",
      " 3449.97732426]\n"
     ]
    },
    {
     "output_type": "error",
     "ename": "IndexError",
     "evalue": "arrays used as indices must be of integer (or boolean) type",
     "traceback": [
      "\u001b[0;31m---------------------------------------------------------------------------\u001b[0m",
      "\u001b[0;31mIndexError\u001b[0m                                Traceback (most recent call last)",
      "\u001b[0;32m<ipython-input-84-b44230236e59>\u001b[0m in \u001b[0;36m<module>\u001b[0;34m\u001b[0m\n\u001b[1;32m      7\u001b[0m     \u001b[0;31m# play_list = lowpass(play_list, cutoff=440)\u001b[0m\u001b[0;34m\u001b[0m\u001b[0;34m\u001b[0m\u001b[0;34m\u001b[0m\u001b[0m\n\u001b[1;32m      8\u001b[0m     \u001b[0;31m# play_list = flanger(play_list, .004, 0.11, 0.57)\u001b[0m\u001b[0;34m\u001b[0m\u001b[0;34m\u001b[0m\u001b[0;34m\u001b[0m\u001b[0m\n\u001b[0;32m----> 9\u001b[0;31m     \u001b[0mplay_list\u001b[0m \u001b[0;34m=\u001b[0m \u001b[0mwahwah\u001b[0m\u001b[0;34m(\u001b[0m\u001b[0mplay_list\u001b[0m\u001b[0;34m)\u001b[0m\u001b[0;34m\u001b[0m\u001b[0;34m\u001b[0m\u001b[0m\n\u001b[0m\u001b[1;32m     10\u001b[0m \u001b[0mprint\u001b[0m\u001b[0;34m(\u001b[0m\u001b[0mplay_list\u001b[0m\u001b[0;34m)\u001b[0m\u001b[0;34m\u001b[0m\u001b[0;34m\u001b[0m\u001b[0m\n",
      "\u001b[0;32m<ipython-input-82-db8b61c5c0f7>\u001b[0m in \u001b[0;36mwahwah\u001b[0;34m(x, damping, min_freq, max_freq, wah_freq, fs)\u001b[0m\n\u001b[1;32m      4\u001b[0m     \u001b[0;31m#create triangle wave of center frequencies\u001b[0m\u001b[0;34m\u001b[0m\u001b[0;34m\u001b[0m\u001b[0;34m\u001b[0m\u001b[0m\n\u001b[1;32m      5\u001b[0m     \u001b[0;32mwhile\u001b[0m \u001b[0mlen\u001b[0m\u001b[0;34m(\u001b[0m\u001b[0mcenter_freq\u001b[0m\u001b[0;34m)\u001b[0m \u001b[0;34m<\u001b[0m \u001b[0mlen\u001b[0m\u001b[0;34m(\u001b[0m\u001b[0mx\u001b[0m\u001b[0;34m)\u001b[0m\u001b[0;34m:\u001b[0m\u001b[0;34m\u001b[0m\u001b[0;34m\u001b[0m\u001b[0m\n\u001b[0;32m----> 6\u001b[0;31m         \u001b[0mcenter_freq\u001b[0m \u001b[0;34m=\u001b[0m \u001b[0mcenter_freq\u001b[0m\u001b[0;34m[\u001b[0m\u001b[0mnp\u001b[0m\u001b[0;34m.\u001b[0m\u001b[0marange\u001b[0m\u001b[0;34m(\u001b[0m\u001b[0mmax_freq\u001b[0m\u001b[0;34m,\u001b[0m\u001b[0mmin_freq\u001b[0m\u001b[0;34m,\u001b[0m\u001b[0;34m-\u001b[0m\u001b[0mfreq_change\u001b[0m\u001b[0;34m)\u001b[0m\u001b[0;34m]\u001b[0m\u001b[0;34m\u001b[0m\u001b[0;34m\u001b[0m\u001b[0m\n\u001b[0m\u001b[1;32m      7\u001b[0m         \u001b[0mcenter_freq\u001b[0m \u001b[0;34m=\u001b[0m \u001b[0mcenter_freq\u001b[0m\u001b[0;34m[\u001b[0m\u001b[0mnp\u001b[0m\u001b[0;34m.\u001b[0m\u001b[0marange\u001b[0m\u001b[0;34m(\u001b[0m\u001b[0mmin_freq\u001b[0m\u001b[0;34m,\u001b[0m\u001b[0mmax_freq\u001b[0m\u001b[0;34m,\u001b[0m\u001b[0mfreq_change\u001b[0m\u001b[0;34m)\u001b[0m\u001b[0;34m]\u001b[0m\u001b[0;34m\u001b[0m\u001b[0;34m\u001b[0m\u001b[0m\n\u001b[1;32m      8\u001b[0m     \u001b[0mcenter_freq\u001b[0m \u001b[0;34m=\u001b[0m \u001b[0mcenter_freq\u001b[0m\u001b[0;34m[\u001b[0m\u001b[0;36m0\u001b[0m\u001b[0;34m:\u001b[0m\u001b[0mlen\u001b[0m\u001b[0;34m(\u001b[0m\u001b[0mx\u001b[0m\u001b[0;34m)\u001b[0m\u001b[0;34m]\u001b[0m\u001b[0;34m\u001b[0m\u001b[0;34m\u001b[0m\u001b[0m\n",
      "\u001b[0;31mIndexError\u001b[0m: arrays used as indices must be of integer (or boolean) type"
     ]
    }
   ],
   "source": [
    "play_list = np.array([])\n",
    "for i in note_list:\n",
    "    note_sine = genSine(i[0], i[2], i[1])\n",
    "    note_sine = adsr(note_sine)\n",
    "    play_list = np.concatenate((play_list, note_sine))\n",
    "    # play_list = lfo(play_list, 2)\n",
    "    # play_list = lowpass(play_list, cutoff=440)\n",
    "    # play_list = flanger(play_list, .004, 0.11, 0.57)\n",
    "    # play_list = wahwah(play_list)\n",
    "print(play_list)"
   ]
  },
  {
   "cell_type": "code",
   "execution_count": 36,
   "metadata": {},
   "outputs": [
    {
     "output_type": "execute_result",
     "data": {
      "text/plain": [
       "array([1.        , 0.99959404, 0.99837649, ..., 0.99634834, 0.99837649,\n",
       "       0.99959404])"
      ]
     },
     "metadata": {},
     "execution_count": 36
    }
   ],
   "source": [
    "t = np.arange(0, 2, 1/44100)\n",
    "np.cos(2*np.pi*200*t)"
   ]
  },
  {
   "cell_type": "code",
   "execution_count": 75,
   "metadata": {},
   "outputs": [],
   "source": [
    "from IPython.display import Audio\n",
    "import scipy\n",
    "from scipy.io.wavfile import write\n",
    "write(\"test.wav\", 44100, play_list)"
   ]
  },
  {
   "source": [
    "convert_clocks_per_click(36, 60)"
   ],
   "cell_type": "code",
   "metadata": {},
   "execution_count": 13,
   "outputs": [
    {
     "output_type": "execute_result",
     "data": {
      "text/plain": [
       "0.0002777777777777778"
      ]
     },
     "metadata": {},
     "execution_count": 13
    }
   ]
  },
  {
   "cell_type": "code",
   "execution_count": 14,
   "metadata": {},
   "outputs": [
    {
     "output_type": "execute_result",
     "data": {
      "text/plain": [
       "0.9448818897637795"
      ]
     },
     "metadata": {},
     "execution_count": 14
    }
   ],
   "source": [
    "convert_velocity(120)"
   ]
  },
  {
   "cell_type": "code",
   "execution_count": 15,
   "metadata": {},
   "outputs": [
    {
     "output_type": "execute_result",
     "data": {
      "text/plain": [
       "440.0"
      ]
     },
     "metadata": {},
     "execution_count": 15
    }
   ],
   "source": [
    "convert_frequency(69)"
   ]
  },
  {
   "cell_type": "code",
   "execution_count": null,
   "metadata": {},
   "outputs": [],
   "source": []
  },
  {
   "cell_type": "code",
   "execution_count": null,
   "metadata": {},
   "outputs": [],
   "source": []
  },
  {
   "cell_type": "code",
   "execution_count": null,
   "metadata": {},
   "outputs": [],
   "source": []
  }
 ]
}