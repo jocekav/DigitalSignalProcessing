{
 "metadata": {
  "language_info": {
   "codemirror_mode": {
    "name": "ipython",
    "version": 3
   },
   "file_extension": ".py",
   "mimetype": "text/x-python",
   "name": "python",
   "nbconvert_exporter": "python",
   "pygments_lexer": "ipython3",
   "version": "3.8.3"
  },
  "orig_nbformat": 2,
  "kernelspec": {
   "name": "python38364bitbasecondaf3a336c616454822a6ab6ff9a48cf6c5",
   "display_name": "Python 3.8.3 64-bit ('base': conda)"
  },
  "metadata": {
   "interpreter": {
    "hash": "a127848a9391408cc5081dc318d995c3b5b3f67938f34b517db31da63ed0b1a5"
   }
  }
 },
 "nbformat": 4,
 "nbformat_minor": 2,
 "cells": [
  {
   "cell_type": "code",
   "execution_count": 52,
   "metadata": {},
   "outputs": [
    {
     "output_type": "stream",
     "name": "stdout",
     "text": [
      "<meta message time_signature numerator=4 denominator=4 clocks_per_click=24 notated_32nd_notes_per_beat=8 time=0>\n<meta message key_signature key='C' time=0>\n<meta message set_tempo tempo=357142 time=0>\n<meta message set_tempo tempo=357142 time=8192>\n<meta message time_signature numerator=5 denominator=4 clocks_per_click=24 notated_32nd_notes_per_beat=8 time=39936>\n<meta message time_signature numerator=4 denominator=4 clocks_per_click=24 notated_32nd_notes_per_beat=8 time=1280>\n<meta message end_of_track time=1>\n"
     ]
    }
   ],
   "source": [
    "import mido\n",
    "import string\n",
    "import numpy as np\n",
    "import scipy\n",
    "#mid = mido.MidiFile('.mid', clip=True)\n",
    "mid = mido.MidiFile('funk.mid', clip=True)\n",
    "for i in range(0, len(mid.tracks[0])):\n",
    "    print(mid.tracks[0][i])"
   ]
  },
  {
   "cell_type": "code",
   "execution_count": 53,
   "metadata": {},
   "outputs": [],
   "source": [
    "def convert_clocks_per_click(clocks_per_click, user_tempo):\n",
    "    sec_per_click = .6 / (user_tempo * clocks_per_click)\n",
    "    return sec_per_click"
   ]
  },
  {
   "cell_type": "code",
   "execution_count": 54,
   "metadata": {},
   "outputs": [],
   "source": [
    "def convert_velocity(midi_vel):\n",
    "    velocity = midi_vel / 127.0\n",
    "    return velocity"
   ]
  },
  {
   "cell_type": "code",
   "execution_count": 55,
   "metadata": {},
   "outputs": [],
   "source": [
    "def convert_frequency(midi_val):\n",
    "    reference = 440\n",
    "    frequency = (reference / 32) * (2 ** ((midi_val - 9) / 12))\n",
    "    return frequency"
   ]
  },
  {
   "cell_type": "code",
   "execution_count": 56,
   "metadata": {},
   "outputs": [],
   "source": [
    "def parse_MIDI(midi_file, user_tempo):\n",
    "    # ticks_per_quarter = <PPQ from the header>\n",
    "    # µs_per_quarter = <Tempo in latest Set Tempo event>\n",
    "    # µs_per_tick = µs_per_quarter / ticks_per_quarter\n",
    "    # seconds_per_tick = µs_per_tick / 1.000.000\n",
    "    # seconds = ticks * seconds_per_tick\n",
    "    clocks_per_click = 0\n",
    "    midi_info = []\n",
    "    note_value = 0\n",
    "    note_velocity = 0\n",
    "    note_dur = 0\n",
    "    sec_per_click = 0\n",
    "    curr_message = ''\n",
    "    prev_message = ''\n",
    "\n",
    "\n",
    "    mid = mido.MidiFile(midi_file, clip=True)\n",
    "    for i in range(0, len(mid.tracks)):\n",
    "        for m in mid.tracks[i][:]:\n",
    "            print(m)\n",
    "            m = str(m)\n",
    "            if 'clocks_per_click' in m:\n",
    "                # midi.append(m)\n",
    "                temp = m.partition(\"clocks_per_click=\")[2]\n",
    "                clocks_per_click = temp.partition(\" \")[0]\n",
    "                #sec_per_click = convert_clocks_per_click(int(clocks_per_click), user_tempo)\n",
    "            if 'note_on' in m:\n",
    "                curr_message = 'note_on'\n",
    "                if curr_message != prev_message:\n",
    "                    temp = m.partition(\"note=\")[2]\n",
    "                    note_value = temp.partition(\" \")[0]\n",
    "                    #convert to frequency\n",
    "                    note_value = convert_frequency(int(note_value))\n",
    "                    temp = m.partition(\"velocity=\")[2]\n",
    "                    note_velocity = temp.partition(\" \")[0]\n",
    "                    #convert to 0-1 amplitude\n",
    "                    note_velocity = convert_velocity(int(note_velocity))\n",
    "                    \n",
    "                    # rests\n",
    "                \n",
    "                    note_dur = m.partition(\"time=\")[2]\n",
    "                    #convert to seconds\n",
    "                    #note_dur = sec_per_click * int(note_dur)\n",
    "                    note_dur = mido.tick2second(int(note_dur), int(clocks_per_click), mido.bpm2tempo(user_tempo))\n",
    "                    if note_dur > 0:\n",
    "                        midi_info.append((440, 0, note_dur))\n",
    "                    #print(midi_info)\n",
    "\n",
    "            if 'note_off' in m:\n",
    "                curr_message = 'note_off'\n",
    "                if curr_message != prev_message:\n",
    "                    note_dur = m.partition(\"time=\")[2]\n",
    "                    #convert to seconds\n",
    "                    #note_dur = sec_per_click * int(note_dur)\n",
    "                    note_dur = mido.tick2second(int(note_dur), int(clocks_per_click), mido.bpm2tempo(user_tempo))\n",
    "                    if note_dur > 0:\n",
    "                        midi_info.append((note_value, note_velocity, note_dur))\n",
    "                    #print(midi_info)\n",
    "\n",
    "            prev_message = curr_message\n",
    "    return midi_info"
   ]
  },
  {
   "cell_type": "code",
   "execution_count": 57,
   "metadata": {
    "tags": []
   },
   "outputs": [
    {
     "output_type": "stream",
     "name": "stdout",
     "text": [
      "<meta message time_signature numerator=4 denominator=4 clocks_per_click=24 notated_32nd_notes_per_beat=8 time=0>\n<meta message key_signature key='C' time=0>\n<meta message set_tempo tempo=250000 time=0>\n<meta message copyright text='Copyright © ' time=0>\n<meta message time_signature numerator=10 denominator=4 clocks_per_click=24 notated_32nd_notes_per_beat=8 time=38400>\n<meta message time_signature numerator=6 denominator=4 clocks_per_click=72 notated_32nd_notes_per_beat=8 time=9600>\n<meta message end_of_track time=1>\nprogram_change channel=0 program=0 time=0\ncontrol_change channel=0 control=121 value=0 time=0\ncontrol_change channel=0 control=64 value=0 time=0\ncontrol_change channel=0 control=91 value=48 time=0\ncontrol_change channel=0 control=10 value=51 time=0\ncontrol_change channel=0 control=7 value=100 time=0\n<meta message track_name name='Piano' time=0>\npitchwheel channel=0 pitch=0 time=0\n<meta message lyrics text='1/1 ' time=0>\nnote_on channel=0 note=60 velocity=76 time=0\nnote_off channel=0 note=60 velocity=0 time=3840\npitchwheel channel=0 pitch=-2022 time=0\n<meta message lyrics text='12/11 ' time=0>\nnote_on channel=0 note=62 velocity=77 time=0\nnote_off channel=0 note=62 velocity=0 time=3840\npitchwheel channel=0 pitch=-241 time=0\n<meta message lyrics text='32/27 ' time=0>\nnote_on channel=0 note=63 velocity=77 time=0\nnote_off channel=0 note=63 velocity=0 time=3840\npitchwheel channel=0 pitch=1437 time=0\n<meta message lyrics text='9/7 ' time=0>\nnote_on channel=0 note=64 velocity=77 time=0\nnote_off channel=0 note=64 velocity=0 time=3840\npitchwheel channel=0 pitch=-81 time=0\n<meta message lyrics text='4/3 ' time=0>\nnote_on channel=0 note=65 velocity=77 time=0\nnote_off channel=0 note=65 velocity=0 time=3840\npitchwheel channel=0 pitch=1798 time=0\n<meta message lyrics text='132/91 ' time=0>\nnote_on channel=0 note=66 velocity=77 time=0\nnote_off channel=0 note=66 velocity=0 time=3840\npitchwheel channel=0 pitch=80 time=0\n<meta message lyrics text='3/2 ' time=0>\nnote_on channel=0 note=67 velocity=77 time=0\nnote_off channel=0 note=67 velocity=0 time=3840\npitchwheel channel=0 pitch=-1942 time=0\n<meta message lyrics text='18/11 ' time=0>\nnote_on channel=0 note=69 velocity=77 time=0\nnote_off channel=0 note=69 velocity=0 time=3840\npitchwheel channel=0 pitch=-161 time=0\n<meta message lyrics text='16/9 ' time=0>\nnote_on channel=0 note=70 velocity=77 time=0\nnote_off channel=0 note=70 velocity=0 time=3840\npitchwheel channel=0 pitch=1718 time=0\n<meta message lyrics text='176/91 ' time=0>\nnote_on channel=0 note=71 velocity=77 time=0\nnote_off channel=0 note=71 velocity=0 time=3840\npitchwheel channel=0 pitch=0 time=0\n<meta message lyrics text='2/1 ' time=0>\nnote_on channel=0 note=72 velocity=77 time=0\nnote_off channel=0 note=72 velocity=0 time=5760\npitchwheel channel=0 pitch=0 time=3840\nnote_on channel=0 note=60 velocity=76 time=0\nnote_on channel=0 note=72 velocity=76 time=0\nnote_off channel=0 note=60 velocity=0 time=5760\nnote_off channel=0 note=72 velocity=0 time=0\n<meta message end_of_track time=1>\nprogram_change channel=1 program=0 time=0\ncontrol_change channel=1 control=121 value=0 time=0\ncontrol_change channel=1 control=64 value=0 time=0\ncontrol_change channel=1 control=91 value=48 time=0\ncontrol_change channel=1 control=10 value=51 time=0\ncontrol_change channel=1 control=7 value=100 time=0\n<meta message track_name name='Piano' time=0>\npitchwheel channel=1 pitch=1437 time=48000\nnote_on channel=1 note=64 velocity=76 time=0\nnote_off channel=1 note=64 velocity=0 time=5760\n<meta message end_of_track time=1>\nprogram_change channel=2 program=0 time=0\ncontrol_change channel=2 control=121 value=0 time=0\ncontrol_change channel=2 control=64 value=0 time=0\ncontrol_change channel=2 control=91 value=48 time=0\ncontrol_change channel=2 control=10 value=51 time=0\ncontrol_change channel=2 control=7 value=100 time=0\n<meta message track_name name='Piano' time=0>\npitchwheel channel=2 pitch=80 time=48000\nnote_on channel=2 note=67 velocity=76 time=0\nnote_off channel=2 note=67 velocity=0 time=5760\n<meta message end_of_track time=1>\n"
     ]
    }
   ],
   "source": [
    "note_list = parse_MIDI('scale.mid', 120)"
   ]
  },
  {
   "cell_type": "code",
   "execution_count": 58,
   "metadata": {},
   "outputs": [],
   "source": [
    "def genSine(frequency, duration, amplitude = 1, sampleRate = 48000, phase = 0):\n",
    "    \n",
    "    #creates a sine wave\n",
    "    \n",
    "    import numpy as np\n",
    "    \n",
    "    time = np.arange(0, duration, 1/sampleRate)\n",
    "    return amplitude * np.sin((2*np.pi * frequency * time) + phase)"
   ]
  },
  {
   "cell_type": "code",
   "execution_count": 59,
   "metadata": {},
   "outputs": [],
   "source": [
    "def adsr(x,a=.25,d=.25,s=.25,r=.25,fs=48000):\n",
    "    total_len = len(x)\n",
    "    a_len = int(.25 * len(x))\n",
    "    d_len = int(.25 * len(x))\n",
    "    r_len = int(.25 * len(x))\n",
    "    s_len = int(len(x) - a_len - d_len - r_len)\n",
    "    # s_len = int(.25 * len(x))\n",
    "\n",
    "    xa= np.arange(0, a_len)                                                     #sets up size of attack portion\n",
    "    ya= np.linspace(0,np.max(x),xa.size)                                       #creates attack envelope\n",
    "\n",
    "    xd= np.arange(a_len, a_len+d_len)                                                 #sets up size of decay portion\n",
    "    yd= np.linspace(np.max(x),.5,xd.size)                                        #creates attack envelope\n",
    "\n",
    "    xs= np.arange(a_len+d_len, a_len+d_len+s_len)                               #sets up size of sustain portion\n",
    "    ys= np.linspace(.5,.5,xs.size)                                            #creates sustain envelope\n",
    "\n",
    "    xr= np.arange(a_len+d_len+s_len, a_len+d_len+s_len+r_len)               #sets up size of release portion\n",
    "    yr= np.linspace(.5,0,xr.size)\n",
    "\n",
    "    env=np.concatenate((ya,yd,ys,yr))                                          #creates full adsr envelope array\n",
    "    adsrnote=x*env[0:x.size]               \n",
    "                                               #applies adsr envelope to input array\n",
    "    return adsrnote"
   ]
  },
  {
   "cell_type": "code",
   "execution_count": 60,
   "metadata": {},
   "outputs": [],
   "source": [
    "def lfo(x, freq, amplitude=1, fs=48000):\n",
    "    t = np.arange(0,len(x)/fs,1/fs)\n",
    "    lfo = x * amplitude * np.cos(2*np.pi*freq*t)\n",
    "    return lfo"
   ]
  },
  {
   "cell_type": "code",
   "execution_count": 61,
   "metadata": {},
   "outputs": [],
   "source": [
    "def reverb(x, impulse):\n",
    "    fft_sig = scipy.fft.fft(x)\n",
    "    fft_impulse = scipy.fft.fft(impulse)\n",
    "    conv = fft_impulse * fft_sig\n",
    "    return scipy.fft.ifft(conv)\n",
    "    \n",
    "    # from scipy.io.wavfile import read\n",
    "\n",
    "    # fs, impulse = read('St Nicolaes Church.wav')\n",
    "    # impulse = np.transpose(impulse)[0]\n",
    "\n",
    "    # impulse = np.concatenate((impulse, np.zeros(len(play_list)-len(impulse))))\n",
    "    # impulse = impulse / np.max(impulse)\n",
    "    # play_list = np.real(reverb(play_list, impulse))\n"
   ]
  },
  {
   "cell_type": "code",
   "execution_count": 62,
   "metadata": {},
   "outputs": [],
   "source": [
    "#function that applies a low-pass filter\n",
    "#x is the original signal\n",
    "#cutoff is the cutoff frequency\n",
    "#order is the order of the filter\n",
    "def lowpass(x, cutoff=440, order=10, fs=48000):\n",
    "    nyq = 0.5 * fs\n",
    "    normal_cutoff = cutoff / nyq\n",
    "\n",
    "    from scipy.signal import butter, filtfilt\n",
    "\n",
    "    (b,a) = butter(order, normal_cutoff, btype = 'low', analog = False)\n",
    "    filt_sig = filtfilt(b,a,x)\n",
    "    \n",
    "    return filt_sig"
   ]
  },
  {
   "cell_type": "code",
   "execution_count": 63,
   "metadata": {},
   "outputs": [],
   "source": [
    "def flanger(x, delay_time=0.003, rate=.1, feedback_percent=.5, fs=48000):\n",
    "    import math\n",
    "    ind = np.arange(0, len(x))\n",
    "    sine_osc = np.sin(2 * np.pi * ind * (rate/fs))\n",
    "    delay_samples = int(delay_time*fs)\n",
    "    x_zero = np.zeros(len(x))\n",
    "    x_zero[:delay_samples] = x[:delay_samples]\n",
    "    for i in range(delay_samples, len(x)):\n",
    "        abs_sin = abs(sine_osc[i])\n",
    "        cur_delay = math.ceil(abs_sin*delay_samples)\n",
    "        x_zero[i] = (feedback_percent * x[i]) + (feedback_percent * x[i-cur_delay])\n",
    "    return x_zero"
   ]
  },
  {
   "cell_type": "code",
   "execution_count": 64,
   "metadata": {},
   "outputs": [],
   "source": [
    "def wahwah(x, damping=0.05, min_freq=250, max_freq=5000, wah_freq=1000, fs=48000):\n",
    "    freq_change = wah_freq/fs\n",
    "    center_freq = np.arange(min_freq, max_freq, freq_change)\n",
    "    #create triangle wave of center frequencies\n",
    "    while len(center_freq) < len(x):\n",
    "        center_freq = center_freq[np.arange(max_freq,min_freq,-freq_change)]\n",
    "        center_freq = center_freq[np.arange(min_freq,max_freq,freq_change)]\n",
    "    center_freq = center_freq[0:len(x)]\n",
    "    # center_freq = np.ndarray.transpose(center_freq)\n",
    "    print(center_freq)\n",
    "\n",
    "    freq_coeff = 2 * np.sin((np.pi * center_freq[0]) / fs)\n",
    "    # print(center_freq)\n",
    "    q = 2 * damping\n",
    "\n",
    "    y_high = np.zeros(len(x))\n",
    "    y_band = np.zeros(len(x))\n",
    "    y_low = np.zeros(len(x))\n",
    "\n",
    "    y_high[0] = x[0]\n",
    "    y_band[0] = freq_coeff * y_high[0]\n",
    "    y_low[0] = freq_coeff * y_band[0]\n",
    "\n",
    "    for i in range(1, (len(center_freq))-1):\n",
    "        y_high[i] = x[i] - y_low[i-1] - (q * y_band[i-1])\n",
    "        y_band[i] = (freq_coeff * y_high[i]) + y_band[i-1]\n",
    "        y_low[i] = (freq_coeff * y_band[i]) + y_low[i-1]\n",
    "        freq_coeff = 2 * np.sin((np.pi * center_freq[i]) / fs)\n",
    "    \n",
    "    y_band = y_band / (max(abs(y_band)))\n",
    "    return y_band\n"
   ]
  },
  {
   "cell_type": "code",
   "execution_count": 65,
   "metadata": {},
   "outputs": [],
   "source": [
    "def wavetable(frequency, dur, amp, fs=48000):\n",
    "    from matplotlib import pyplot as plt\n",
    "    # choose the wave type\n",
    "    t = np.arange(0,128/fs,1/fs)\n",
    "    wave = np.sin(2 * np.pi * 375 * np.arange(0,128/fs,1/fs))\n",
    "\n",
    "    interp = scipy.interpolate.CubicSpline(np.arange(0, len(wave)), wave,bc_type='natural')\n",
    "\n",
    "    # plt.plot(t, wave)\n",
    "    wave = wave / max(wave)\n",
    "    # frequency to step size\n",
    "    step = (round(frequency) * 128) / fs\n",
    "    # time to desired sample length (array length)\n",
    "    length = dur * fs\n",
    "    ind_arr = np.arange(0, step * length, step)\n",
    "    # ind_arr = np.linspace(0, step * length, length)\n",
    "    out = np.array([])\n",
    "    #read table\n",
    "    for i in ind_arr:\n",
    "        i = i % 128\n",
    "        if i != int(i):\n",
    "            # floored = int(i)\n",
    "            # next = floored + 1\n",
    "            # decimal = i - floored\n",
    "            # out = np.append(out, wave[floored] + decimal * (wave[next] - wave[floored]))\n",
    "            out = np.append(out, interp(i))\n",
    "        elif i == int(i):\n",
    "            out = np.append(out, wave[int(i)])\n",
    "    out = out * amp\n",
    "    return out\n"
   ]
  },
  {
   "cell_type": "code",
   "execution_count": 66,
   "metadata": {},
   "outputs": [
    {
     "output_type": "stream",
     "name": "stdout",
     "text": [
      "2.6\n"
     ]
    }
   ],
   "source": [
    "import scipy\n",
    "from scipy import interpolate\n",
    "\n",
    "inter = scipy.interpolate.CubicSpline(np.array([0, 1, 2]), np.array([0, 2, 4]),bc_type='natural')\n",
    "print(inter(1.3))"
   ]
  },
  {
   "cell_type": "code",
   "execution_count": 67,
   "metadata": {},
   "outputs": [],
   "source": [
    "def additive(type, freq, duration, num_harmonics, amplitude=1, fs=48000, phase_shift=0):\n",
    "    summed_wave = np.array([])\n",
    "    if type == 'sine':\n",
    "        summed_wave = genSine(freq, duration, phase=(phase_shift))\n",
    "        for i in range(2, num_harmonics+1):\n",
    "            add = genSine((freq * i), duration, phase=(phase_shift*i))\n",
    "            summed_wave = summed_wave + add\n",
    "    # elif type == 'square':\n",
    "    #     for i in range(1, num_harmonics+1):\n",
    "    #         add = genSquare((freq * i), duration, phase=(phase_shift*i))\n",
    "    #         summed_wave += add\n",
    "    # elif type == 'triangle':\n",
    "    #     for i in range(1, num_harmonics+1):\n",
    "    #         add = genTriangle((freq * i), duration, phase=(phase_shift*i))\n",
    "    #         summed_wave += add\n",
    "    # elif type == 'saw':\n",
    "    #     for i in range(1, num_harmonics+1):\n",
    "    #         add = genSaw((freq * i), duration, phase=(phase_shift*i))\n",
    "    #         summed_wave += add\n",
    "    summed_wave *= amplitude\n",
    "    summed_wave = summed_wave / np.max(summed_wave)\n",
    "    return summed_wave"
   ]
  },
  {
   "cell_type": "code",
   "execution_count": 68,
   "metadata": {},
   "outputs": [],
   "source": [
    "def ring_modulation(x, rate=0.5, blend=0.5, block_size=512):\n",
    "    remainder = len(x) % block_size\n",
    "    print(len(x))\n",
    "    print(remainder)\n",
    "    pad = np.zeros(remainder)\n",
    "    print(len(pad))\n",
    "    x = np.concatenate((x, pad))\n",
    "    print(len(x))\n",
    "    print(len(x) / block_size)\n",
    "    total_blocks = len(x) / block_size\n",
    "    for j in range(int(total_blocks)):\n",
    "        t = 0\n",
    "        for i in range(block_size):\n",
    "            ring_factor = np.sin(t)\n",
    "            t += (rate * 0.2)\n",
    "            x[i + (block_size * j)] = ((1-blend) * x[i + (block_size * j)]) + (blend * ring_factor * x[i + (block_size * j)])\n",
    "    x = x[0:(len(x)-remainder)]\n",
    "    return x"
   ]
  },
  {
   "cell_type": "code",
   "execution_count": 69,
   "metadata": {},
   "outputs": [
    {
     "output_type": "error",
     "ename": "IndentationError",
     "evalue": "unexpected indent (<ipython-input-69-d44b18e71006>, line 2)",
     "traceback": [
      "\u001b[0;36m  File \u001b[0;32m\"<ipython-input-69-d44b18e71006>\"\u001b[0;36m, line \u001b[0;32m2\u001b[0m\n\u001b[0;31m    play_list = np.concatenate((play_list, note_sine))\u001b[0m\n\u001b[0m    ^\u001b[0m\n\u001b[0;31mIndentationError\u001b[0m\u001b[0;31m:\u001b[0m unexpected indent\n"
     ]
    }
   ],
   "source": [
    "sine = note_sine = synth_helpers.wavetable(i[0], i[2], i[1], 'sine')\n",
    "                    play_list = np.concatenate((play_list, note_sine))\n",
    "sine = ring_modulation(sine)"
   ]
  },
  {
   "cell_type": "code",
   "execution_count": 70,
   "metadata": {},
   "outputs": [
    {
     "output_type": "error",
     "ename": "NameError",
     "evalue": "name 'sine' is not defined",
     "traceback": [
      "\u001b[0;31m---------------------------------------------------------------------------\u001b[0m",
      "\u001b[0;31mNameError\u001b[0m                                 Traceback (most recent call last)",
      "\u001b[0;32m<ipython-input-70-3c9dc031cf15>\u001b[0m in \u001b[0;36m<module>\u001b[0;34m\u001b[0m\n\u001b[1;32m      2\u001b[0m \u001b[0;32mimport\u001b[0m \u001b[0mscipy\u001b[0m\u001b[0;34m\u001b[0m\u001b[0;34m\u001b[0m\u001b[0m\n\u001b[1;32m      3\u001b[0m \u001b[0;32mfrom\u001b[0m \u001b[0mscipy\u001b[0m\u001b[0;34m.\u001b[0m\u001b[0mio\u001b[0m\u001b[0;34m.\u001b[0m\u001b[0mwavfile\u001b[0m \u001b[0;32mimport\u001b[0m \u001b[0mwrite\u001b[0m\u001b[0;34m\u001b[0m\u001b[0;34m\u001b[0m\u001b[0m\n\u001b[0;32m----> 4\u001b[0;31m \u001b[0mwrite\u001b[0m\u001b[0;34m(\u001b[0m\u001b[0;34m\"test.wav\"\u001b[0m\u001b[0;34m,\u001b[0m \u001b[0;36m48000\u001b[0m\u001b[0;34m,\u001b[0m \u001b[0msine\u001b[0m\u001b[0;34m)\u001b[0m\u001b[0;34m\u001b[0m\u001b[0;34m\u001b[0m\u001b[0m\n\u001b[0m",
      "\u001b[0;31mNameError\u001b[0m: name 'sine' is not defined"
     ]
    }
   ],
   "source": [
    "from IPython.display import Audio\n",
    "import scipy\n",
    "from scipy.io.wavfile import write\n",
    "write(\"test.wav\", 48000, sine)"
   ]
  },
  {
   "cell_type": "code",
   "execution_count": 71,
   "metadata": {},
   "outputs": [
    {
     "output_type": "error",
     "ename": "NameError",
     "evalue": "name 'sine' is not defined",
     "traceback": [
      "\u001b[0;31m---------------------------------------------------------------------------\u001b[0m",
      "\u001b[0;31mNameError\u001b[0m                                 Traceback (most recent call last)",
      "\u001b[0;32m<ipython-input-71-a17b7869527b>\u001b[0m in \u001b[0;36m<module>\u001b[0;34m\u001b[0m\n\u001b[0;32m----> 1\u001b[0;31m \u001b[0mprint\u001b[0m\u001b[0;34m(\u001b[0m\u001b[0msine\u001b[0m\u001b[0;34m)\u001b[0m\u001b[0;34m\u001b[0m\u001b[0;34m\u001b[0m\u001b[0m\n\u001b[0m",
      "\u001b[0;31mNameError\u001b[0m: name 'sine' is not defined"
     ]
    }
   ],
   "source": [
    "print(sine)"
   ]
  },
  {
   "cell_type": "code",
   "execution_count": 72,
   "metadata": {},
   "outputs": [
    {
     "output_type": "execute_result",
     "data": {
      "text/plain": [
       "[(261.6255653005986, 0.5984251968503937, 26.666666666666664),\n",
       " (293.66476791740763, 0.6062992125984252, 26.666666666666664),\n",
       " (311.1269837220809, 0.6062992125984252, 26.666666666666664),\n",
       " (329.62755691286986, 0.6062992125984252, 26.666666666666664),\n",
       " (349.22823143300394, 0.6062992125984252, 26.666666666666664),\n",
       " (369.9944227116344, 0.6062992125984252, 26.666666666666664),\n",
       " (391.9954359817492, 0.6062992125984252, 26.666666666666664),\n",
       " (440.0, 0.6062992125984252, 26.666666666666664),\n",
       " (466.1637615180898, 0.6062992125984252, 26.666666666666664),\n",
       " (493.88330125612424, 0.6062992125984252, 26.666666666666664),\n",
       " (523.2511306011972, 0.6062992125984252, 40.0),\n",
       " (261.6255653005986, 0.5984251968503937, 40.0),\n",
       " (329.62755691286986, 0.5984251968503937, 40.0),\n",
       " (391.9954359817492, 0.5984251968503937, 40.0)]"
      ]
     },
     "metadata": {},
     "execution_count": 72
    }
   ],
   "source": [
    "note_list"
   ]
  },
  {
   "cell_type": "code",
   "execution_count": 73,
   "metadata": {},
   "outputs": [
    {
     "output_type": "stream",
     "name": "stdout",
     "text": [
      "115200\n115200\n"
     ]
    }
   ],
   "source": [
    "note_sine_1 = genSine(523.2511306011972, 2.4, 0.6062992125984252)\n",
    "note_sine_2 = wavetable(523, 2.4, 0.6062992125984252)\n",
    "print(len(note_sine_1))\n",
    "print(len(note_sine_2))\n"
   ]
  },
  {
   "cell_type": "code",
   "execution_count": 74,
   "metadata": {},
   "outputs": [
    {
     "output_type": "stream",
     "name": "stdout",
     "text": [
      "<meta message time_signature numerator=3 denominator=4 clocks_per_click=24 notated_32nd_notes_per_beat=8 time=0>\n<meta message key_signature key='C' time=0>\n<meta message set_tempo tempo=600000 time=0>\n<meta message track_name name='Happy Birthday' time=0>\n<meta message text text='trad.' time=0>\n<meta message time_signature numerator=7 denominator=8 clocks_per_click=12 notated_32nd_notes_per_beat=8 time=17280>\n<meta message time_signature numerator=3 denominator=4 clocks_per_click=24 notated_32nd_notes_per_beat=8 time=3360>\n<meta message time_signature numerator=2 denominator=4 clocks_per_click=24 notated_32nd_notes_per_beat=8 time=2880>\n<meta message end_of_track time=1>\nprogram_change channel=0 program=0 time=1920\ncontrol_change channel=0 control=121 value=0 time=0\ncontrol_change channel=0 control=64 value=0 time=0\ncontrol_change channel=0 control=91 value=48 time=0\ncontrol_change channel=0 control=10 value=51 time=0\ncontrol_change channel=0 control=7 value=100 time=0\ncontrol_change channel=0 control=121 value=0 time=0\ncontrol_change channel=0 control=64 value=0 time=0\ncontrol_change channel=0 control=91 value=48 time=0\ncontrol_change channel=0 control=10 value=51 time=0\ncontrol_change channel=0 control=7 value=100 time=0\n<meta message track_name name='Piano' time=0>\nnote_on channel=0 note=55 velocity=88 time=0\nnote_off channel=0 note=55 velocity=0 time=480\nnote_on channel=0 note=55 velocity=95 time=0\nnote_off channel=0 note=55 velocity=0 time=480\nnote_on channel=0 note=57 velocity=102 time=0\nnote_off channel=0 note=57 velocity=0 time=960\nnote_on channel=0 note=55 velocity=94 time=0\nnote_off channel=0 note=55 velocity=0 time=960\nnote_on channel=0 note=60 velocity=86 time=0\nnote_off channel=0 note=60 velocity=0 time=960\nnote_on channel=0 note=59 velocity=94 time=0\nnote_off channel=0 note=59 velocity=0 time=1920\nnote_on channel=0 note=55 velocity=80 time=0\nnote_off channel=0 note=55 velocity=0 time=480\nnote_on channel=0 note=55 velocity=91 time=0\nnote_off channel=0 note=55 velocity=0 time=480\nnote_on channel=0 note=57 velocity=101 time=0\nnote_off channel=0 note=57 velocity=0 time=960\nnote_on channel=0 note=55 velocity=95 time=0\nnote_off channel=0 note=55 velocity=0 time=960\nnote_on channel=0 note=62 velocity=86 time=0\nnote_off channel=0 note=62 velocity=0 time=960\nnote_on channel=0 note=60 velocity=91 time=0\nnote_off channel=0 note=60 velocity=0 time=1920\nnote_on channel=0 note=55 velocity=90 time=0\nnote_off channel=0 note=55 velocity=0 time=480\nnote_on channel=0 note=55 velocity=98 time=0\nnote_off channel=0 note=55 velocity=0 time=480\nnote_on channel=0 note=67 velocity=87 time=0\nnote_on channel=0 note=52 velocity=93 time=0\nnote_off channel=0 note=67 velocity=0 time=960\nnote_on channel=0 note=64 velocity=88 time=0\nnote_off channel=0 note=64 velocity=0 time=960\nnote_on channel=0 note=60 velocity=88 time=0\nnote_off channel=0 note=60 velocity=0 time=960\nnote_off channel=0 note=52 velocity=0 time=0\nnote_on channel=0 note=59 velocity=86 time=0\nnote_on channel=0 note=53 velocity=100 time=0\nnote_off channel=0 note=59 velocity=0 time=960\nnote_on channel=0 note=57 velocity=101 time=0\nnote_off channel=0 note=57 velocity=0 time=1440\nnote_on channel=0 note=65 velocity=119 time=0\nnote_off channel=0 note=65 velocity=0 time=480\nnote_off channel=0 note=53 velocity=0 time=0\nnote_on channel=0 note=65 velocity=101 time=0\nnote_off channel=0 note=65 velocity=0 time=480\nnote_on channel=0 note=64 velocity=91 time=0\nnote_off channel=0 note=64 velocity=0 time=960\nnote_on channel=0 note=60 velocity=85 time=0\nnote_off channel=0 note=60 velocity=0 time=960\nnote_on channel=0 note=62 velocity=104 time=0\nnote_on channel=0 note=55 velocity=92 time=0\nnote_off channel=0 note=62 velocity=0 time=960\nnote_off channel=0 note=55 velocity=0 time=0\nnote_on channel=0 note=60 velocity=93 time=0\nnote_on channel=0 note=52 velocity=90 time=0\nnote_off channel=0 note=60 velocity=0 time=1920\nnote_off channel=0 note=52 velocity=0 time=0\n<meta message end_of_track time=1>\n"
     ]
    },
    {
     "output_type": "execute_result",
     "data": {
      "text/plain": [
       "100.0"
      ]
     },
     "metadata": {},
     "execution_count": 74
    }
   ],
   "source": [
    "note_list = parse_MIDI('happy_birthday_BPNO.mid', 1)\n",
    "note_list\n",
    "mido.tempo2bpm(600000)"
   ]
  },
  {
   "cell_type": "code",
   "execution_count": 75,
   "metadata": {
    "tags": [
     "outputPrepend"
    ]
   },
   "outputs": [
    {
     "output_type": "stream",
     "name": "stdout",
     "text": [
      "59 velocity=100 time=0\n",
      "note_off channel=0 note=59 velocity=64 time=24\n",
      "note_on channel=0 note=74 velocity=100 time=0\n",
      "note_off channel=0 note=74 velocity=64 time=24\n",
      "note_on channel=0 note=69 velocity=100 time=24\n",
      "note_off channel=0 note=69 velocity=64 time=24\n",
      "note_on channel=0 note=68 velocity=100 time=48\n",
      "note_off channel=0 note=68 velocity=64 time=24\n",
      "note_on channel=0 note=67 velocity=100 time=24\n",
      "note_off channel=0 note=67 velocity=64 time=24\n",
      "note_on channel=0 note=65 velocity=100 time=24\n",
      "note_on channel=0 note=62 velocity=100 time=48\n",
      "note_off channel=0 note=65 velocity=64 time=0\n",
      "note_off channel=0 note=62 velocity=64 time=24\n",
      "note_on channel=0 note=65 velocity=100 time=0\n",
      "note_off channel=0 note=65 velocity=64 time=24\n",
      "note_on channel=0 note=67 velocity=100 time=0\n",
      "note_on channel=0 note=58 velocity=100 time=24\n",
      "note_off channel=0 note=67 velocity=64 time=0\n",
      "note_off channel=0 note=58 velocity=64 time=24\n",
      "note_on channel=0 note=58 velocity=100 time=0\n",
      "note_off channel=0 note=58 velocity=64 time=24\n",
      "note_on channel=0 note=74 velocity=100 time=0\n",
      "note_off channel=0 note=74 velocity=64 time=24\n",
      "note_on channel=0 note=69 velocity=100 time=24\n",
      "note_off channel=0 note=69 velocity=64 time=24\n",
      "note_on channel=0 note=68 velocity=100 time=48\n",
      "note_off channel=0 note=68 velocity=64 time=24\n",
      "note_on channel=0 note=67 velocity=100 time=24\n",
      "note_off channel=0 note=67 velocity=64 time=24\n",
      "note_on channel=0 note=65 velocity=100 time=24\n",
      "note_on channel=0 note=62 velocity=100 time=48\n",
      "note_off channel=0 note=65 velocity=64 time=0\n",
      "note_off channel=0 note=62 velocity=64 time=24\n",
      "note_on channel=0 note=65 velocity=100 time=0\n",
      "note_off channel=0 note=65 velocity=64 time=24\n",
      "note_on channel=0 note=67 velocity=100 time=0\n",
      "note_off channel=0 note=67 velocity=64 time=24\n",
      "note_on channel=0 note=62 velocity=100 time=9216\n",
      "note_off channel=0 note=62 velocity=64 time=24\n",
      "note_on channel=0 note=62 velocity=100 time=0\n",
      "note_off channel=0 note=62 velocity=64 time=24\n",
      "note_on channel=0 note=74 velocity=100 time=0\n",
      "note_off channel=0 note=74 velocity=64 time=24\n",
      "note_on channel=0 note=69 velocity=100 time=24\n",
      "note_off channel=0 note=69 velocity=64 time=24\n",
      "note_on channel=0 note=68 velocity=100 time=48\n",
      "note_off channel=0 note=68 velocity=64 time=24\n",
      "note_on channel=0 note=67 velocity=100 time=24\n",
      "note_off channel=0 note=67 velocity=64 time=24\n",
      "note_on channel=0 note=65 velocity=100 time=24\n",
      "note_on channel=0 note=62 velocity=100 time=48\n",
      "note_off channel=0 note=65 velocity=64 time=0\n",
      "note_off channel=0 note=62 velocity=64 time=24\n",
      "note_on channel=0 note=65 velocity=100 time=0\n",
      "note_off channel=0 note=65 velocity=64 time=24\n",
      "note_on channel=0 note=67 velocity=100 time=0\n",
      "note_on channel=0 note=60 velocity=100 time=24\n",
      "note_off channel=0 note=67 velocity=64 time=0\n",
      "note_off channel=0 note=60 velocity=64 time=24\n",
      "note_on channel=0 note=60 velocity=100 time=0\n",
      "note_off channel=0 note=60 velocity=64 time=24\n",
      "note_on channel=0 note=74 velocity=100 time=0\n",
      "note_off channel=0 note=74 velocity=64 time=24\n",
      "note_on channel=0 note=69 velocity=100 time=24\n",
      "note_off channel=0 note=69 velocity=64 time=24\n",
      "note_on channel=0 note=68 velocity=100 time=48\n",
      "note_off channel=0 note=68 velocity=64 time=24\n",
      "note_on channel=0 note=67 velocity=100 time=24\n",
      "note_off channel=0 note=67 velocity=64 time=24\n",
      "note_on channel=0 note=65 velocity=100 time=24\n",
      "note_on channel=0 note=62 velocity=100 time=48\n",
      "note_off channel=0 note=65 velocity=64 time=0\n",
      "note_off channel=0 note=62 velocity=64 time=24\n",
      "note_on channel=0 note=65 velocity=100 time=0\n",
      "note_off channel=0 note=65 velocity=64 time=24\n",
      "note_on channel=0 note=67 velocity=100 time=0\n",
      "note_on channel=0 note=59 velocity=100 time=24\n",
      "note_off channel=0 note=67 velocity=64 time=0\n",
      "note_off channel=0 note=59 velocity=64 time=24\n",
      "note_on channel=0 note=59 velocity=100 time=0\n",
      "note_off channel=0 note=59 velocity=64 time=24\n",
      "note_on channel=0 note=74 velocity=100 time=0\n",
      "note_off channel=0 note=74 velocity=64 time=24\n",
      "note_on channel=0 note=69 velocity=100 time=24\n",
      "note_off channel=0 note=69 velocity=64 time=24\n",
      "note_on channel=0 note=68 velocity=100 time=48\n",
      "note_off channel=0 note=68 velocity=64 time=24\n",
      "note_on channel=0 note=67 velocity=100 time=24\n",
      "note_off channel=0 note=67 velocity=64 time=24\n",
      "note_on channel=0 note=65 velocity=100 time=24\n",
      "note_on channel=0 note=62 velocity=100 time=48\n",
      "note_off channel=0 note=65 velocity=64 time=0\n",
      "note_off channel=0 note=62 velocity=64 time=24\n",
      "note_on channel=0 note=65 velocity=100 time=0\n",
      "note_off channel=0 note=65 velocity=64 time=24\n",
      "note_on channel=0 note=67 velocity=100 time=0\n",
      "note_on channel=0 note=58 velocity=100 time=24\n",
      "note_off channel=0 note=67 velocity=64 time=0\n",
      "note_off channel=0 note=58 velocity=64 time=24\n",
      "note_on channel=0 note=58 velocity=100 time=0\n",
      "note_off channel=0 note=58 velocity=64 time=24\n",
      "note_on channel=0 note=74 velocity=100 time=0\n",
      "note_off channel=0 note=74 velocity=64 time=24\n",
      "note_on channel=0 note=69 velocity=100 time=24\n",
      "note_off channel=0 note=69 velocity=64 time=24\n",
      "note_on channel=0 note=68 velocity=100 time=48\n",
      "note_off channel=0 note=68 velocity=64 time=24\n",
      "note_on channel=0 note=67 velocity=100 time=24\n",
      "note_off channel=0 note=67 velocity=64 time=24\n",
      "note_on channel=0 note=65 velocity=100 time=24\n",
      "note_on channel=0 note=62 velocity=100 time=48\n",
      "note_off channel=0 note=65 velocity=64 time=0\n",
      "note_off channel=0 note=62 velocity=64 time=24\n",
      "note_on channel=0 note=65 velocity=100 time=0\n",
      "note_off channel=0 note=65 velocity=64 time=24\n",
      "note_on channel=0 note=67 velocity=100 time=0\n",
      "note_on channel=0 note=62 velocity=100 time=24\n",
      "note_off channel=0 note=67 velocity=64 time=0\n",
      "note_off channel=0 note=62 velocity=64 time=24\n",
      "note_on channel=0 note=62 velocity=100 time=0\n",
      "note_off channel=0 note=62 velocity=64 time=24\n",
      "note_on channel=0 note=74 velocity=100 time=0\n",
      "note_off channel=0 note=74 velocity=64 time=24\n",
      "note_on channel=0 note=69 velocity=100 time=24\n",
      "note_off channel=0 note=69 velocity=64 time=24\n",
      "note_on channel=0 note=68 velocity=100 time=48\n",
      "note_off channel=0 note=68 velocity=64 time=24\n",
      "note_on channel=0 note=67 velocity=100 time=24\n",
      "note_off channel=0 note=67 velocity=64 time=24\n",
      "note_on channel=0 note=65 velocity=100 time=24\n",
      "note_on channel=0 note=62 velocity=100 time=48\n",
      "note_off channel=0 note=65 velocity=64 time=0\n",
      "note_off channel=0 note=62 velocity=64 time=24\n",
      "note_on channel=0 note=65 velocity=100 time=0\n",
      "note_off channel=0 note=65 velocity=64 time=24\n",
      "note_on channel=0 note=67 velocity=100 time=0\n",
      "note_on channel=0 note=60 velocity=100 time=24\n",
      "note_off channel=0 note=67 velocity=64 time=0\n",
      "note_off channel=0 note=60 velocity=64 time=24\n",
      "note_on channel=0 note=60 velocity=100 time=0\n",
      "note_off channel=0 note=60 velocity=64 time=24\n",
      "note_on channel=0 note=74 velocity=100 time=0\n",
      "note_off channel=0 note=74 velocity=64 time=24\n",
      "note_on channel=0 note=69 velocity=100 time=24\n",
      "note_off channel=0 note=69 velocity=64 time=24\n",
      "note_on channel=0 note=68 velocity=100 time=48\n",
      "note_off channel=0 note=68 velocity=64 time=24\n",
      "note_on channel=0 note=67 velocity=100 time=24\n",
      "note_off channel=0 note=67 velocity=64 time=24\n",
      "note_on channel=0 note=65 velocity=100 time=24\n",
      "note_on channel=0 note=62 velocity=100 time=48\n",
      "note_off channel=0 note=65 velocity=64 time=0\n",
      "note_off channel=0 note=62 velocity=64 time=24\n",
      "note_on channel=0 note=65 velocity=100 time=0\n",
      "note_off channel=0 note=65 velocity=64 time=24\n",
      "note_on channel=0 note=67 velocity=100 time=0\n",
      "note_off channel=0 note=67 velocity=64 time=24\n",
      "note_on channel=0 note=53 velocity=100 time=48\n",
      "note_on channel=0 note=65 velocity=100 time=0\n",
      "note_on channel=0 note=77 velocity=100 time=0\n",
      "note_off channel=0 note=53 velocity=64 time=24\n",
      "note_off channel=0 note=65 velocity=64 time=0\n",
      "note_off channel=0 note=77 velocity=64 time=0\n",
      "note_on channel=0 note=52 velocity=100 time=24\n",
      "note_on channel=0 note=64 velocity=100 time=0\n",
      "note_on channel=0 note=76 velocity=100 time=0\n",
      "note_off channel=0 note=52 velocity=64 time=24\n",
      "note_off channel=0 note=64 velocity=64 time=0\n",
      "note_off channel=0 note=76 velocity=64 time=0\n",
      "note_on channel=0 note=48 velocity=100 time=48\n",
      "note_on channel=0 note=60 velocity=100 time=0\n",
      "note_on channel=0 note=72 velocity=100 time=0\n",
      "note_off channel=0 note=48 velocity=64 time=24\n",
      "note_off channel=0 note=60 velocity=64 time=0\n",
      "note_off channel=0 note=72 velocity=64 time=0\n",
      "note_on channel=0 note=52 velocity=100 time=24\n",
      "note_on channel=0 note=64 velocity=100 time=0\n",
      "note_on channel=0 note=76 velocity=100 time=0\n",
      "note_off channel=0 note=52 velocity=64 time=24\n",
      "note_off channel=0 note=64 velocity=64 time=0\n",
      "note_off channel=0 note=76 velocity=64 time=0\n",
      "note_on channel=0 note=50 velocity=100 time=23\n",
      "note_on channel=0 note=62 velocity=100 time=0\n",
      "note_on channel=0 note=74 velocity=100 time=0\n",
      "note_off channel=0 note=50 velocity=64 time=24\n",
      "note_off channel=0 note=62 velocity=64 time=0\n",
      "note_off channel=0 note=74 velocity=64 time=0\n",
      "note_on channel=0 note=45 velocity=100 time=25\n",
      "note_on channel=0 note=57 velocity=100 time=0\n",
      "note_on channel=0 note=69 velocity=100 time=0\n",
      "note_off channel=0 note=45 velocity=64 time=24\n",
      "note_on channel=0 note=48 velocity=100 time=0\n",
      "note_off channel=0 note=57 velocity=64 time=0\n",
      "note_on channel=0 note=60 velocity=100 time=0\n",
      "note_off channel=0 note=69 velocity=64 time=0\n",
      "note_on channel=0 note=72 velocity=100 time=0\n",
      "note_off channel=0 note=48 velocity=64 time=24\n",
      "note_on channel=0 note=50 velocity=100 time=0\n",
      "note_off channel=0 note=60 velocity=64 time=0\n",
      "note_on channel=0 note=62 velocity=100 time=0\n",
      "note_off channel=0 note=72 velocity=64 time=0\n",
      "note_on channel=0 note=74 velocity=100 time=0\n",
      "note_off channel=0 note=50 velocity=64 time=24\n",
      "note_off channel=0 note=62 velocity=64 time=0\n",
      "note_off channel=0 note=74 velocity=64 time=0\n",
      "note_on channel=0 note=53 velocity=100 time=48\n",
      "note_on channel=0 note=65 velocity=100 time=0\n",
      "note_on channel=0 note=77 velocity=100 time=0\n",
      "note_off channel=0 note=53 velocity=64 time=25\n",
      "note_off channel=0 note=65 velocity=64 time=0\n",
      "note_off channel=0 note=77 velocity=64 time=0\n",
      "note_on channel=0 note=52 velocity=100 time=23\n",
      "note_on channel=0 note=64 velocity=100 time=0\n",
      "note_on channel=0 note=76 velocity=100 time=0\n",
      "note_off channel=0 note=52 velocity=64 time=25\n",
      "note_off channel=0 note=64 velocity=64 time=0\n",
      "note_off channel=0 note=76 velocity=64 time=0\n",
      "note_on channel=0 note=48 velocity=100 time=47\n",
      "note_on channel=0 note=60 velocity=100 time=0\n",
      "note_on channel=0 note=72 velocity=100 time=0\n",
      "note_off channel=0 note=48 velocity=64 time=25\n",
      "note_off channel=0 note=60 velocity=64 time=0\n",
      "note_off channel=0 note=72 velocity=64 time=0\n",
      "note_on channel=0 note=52 velocity=100 time=23\n",
      "note_on channel=0 note=64 velocity=100 time=0\n",
      "note_on channel=0 note=76 velocity=100 time=0\n",
      "note_off channel=0 note=52 velocity=64 time=25\n",
      "note_off channel=0 note=64 velocity=64 time=0\n",
      "note_off channel=0 note=76 velocity=64 time=0\n",
      "note_on channel=0 note=50 velocity=100 time=22\n",
      "note_on channel=0 note=62 velocity=100 time=0\n",
      "note_on channel=0 note=74 velocity=100 time=0\n",
      "note_off channel=0 note=50 velocity=64 time=25\n",
      "note_off channel=0 note=62 velocity=64 time=0\n",
      "note_off channel=0 note=74 velocity=64 time=0\n",
      "note_on channel=0 note=45 velocity=100 time=24\n",
      "note_on channel=0 note=57 velocity=100 time=0\n",
      "note_on channel=0 note=69 velocity=100 time=0\n",
      "note_off channel=0 note=45 velocity=64 time=24\n",
      "note_on channel=0 note=48 velocity=100 time=0\n",
      "note_off channel=0 note=57 velocity=64 time=0\n",
      "note_on channel=0 note=60 velocity=100 time=0\n",
      "note_off channel=0 note=69 velocity=64 time=0\n",
      "note_on channel=0 note=72 velocity=100 time=0\n",
      "note_off channel=0 note=48 velocity=64 time=24\n",
      "note_on channel=0 note=50 velocity=100 time=0\n",
      "note_off channel=0 note=60 velocity=64 time=0\n",
      "note_on channel=0 note=62 velocity=100 time=0\n",
      "note_off channel=0 note=72 velocity=64 time=0\n",
      "note_on channel=0 note=74 velocity=100 time=0\n",
      "note_off channel=0 note=50 velocity=64 time=24\n",
      "note_off channel=0 note=62 velocity=64 time=0\n",
      "note_off channel=0 note=74 velocity=64 time=0\n",
      "note_on channel=0 note=62 velocity=100 time=5376\n",
      "note_off channel=0 note=62 velocity=64 time=24\n",
      "note_on channel=0 note=62 velocity=100 time=0\n",
      "note_off channel=0 note=62 velocity=64 time=24\n",
      "note_on channel=0 note=74 velocity=100 time=0\n",
      "note_off channel=0 note=74 velocity=64 time=24\n",
      "note_on channel=0 note=69 velocity=100 time=24\n",
      "note_off channel=0 note=69 velocity=64 time=24\n",
      "note_on channel=0 note=68 velocity=100 time=48\n",
      "note_off channel=0 note=68 velocity=64 time=24\n",
      "note_on channel=0 note=67 velocity=100 time=24\n",
      "note_off channel=0 note=67 velocity=64 time=24\n",
      "note_on channel=0 note=65 velocity=100 time=24\n",
      "note_on channel=0 note=62 velocity=100 time=48\n",
      "note_off channel=0 note=65 velocity=64 time=0\n",
      "note_off channel=0 note=62 velocity=64 time=24\n",
      "note_on channel=0 note=65 velocity=100 time=0\n",
      "note_off channel=0 note=65 velocity=64 time=24\n",
      "note_on channel=0 note=67 velocity=100 time=0\n",
      "note_on channel=0 note=62 velocity=100 time=24\n",
      "note_off channel=0 note=67 velocity=64 time=0\n",
      "note_off channel=0 note=62 velocity=64 time=24\n",
      "note_on channel=0 note=62 velocity=100 time=0\n",
      "note_off channel=0 note=62 velocity=64 time=24\n",
      "note_on channel=0 note=74 velocity=100 time=0\n",
      "note_off channel=0 note=74 velocity=64 time=24\n",
      "note_on channel=0 note=69 velocity=100 time=24\n",
      "note_off channel=0 note=69 velocity=64 time=24\n",
      "note_on channel=0 note=68 velocity=100 time=48\n",
      "note_off channel=0 note=68 velocity=64 time=24\n",
      "note_on channel=0 note=67 velocity=100 time=24\n",
      "note_off channel=0 note=67 velocity=64 time=24\n",
      "note_on channel=0 note=65 velocity=100 time=24\n",
      "note_on channel=0 note=62 velocity=100 time=48\n",
      "note_off channel=0 note=65 velocity=64 time=0\n",
      "note_off channel=0 note=62 velocity=64 time=24\n",
      "note_on channel=0 note=65 velocity=100 time=0\n",
      "note_off channel=0 note=65 velocity=64 time=24\n",
      "note_on channel=0 note=67 velocity=100 time=0\n",
      "note_on channel=0 note=58 velocity=100 time=24\n",
      "note_off channel=0 note=67 velocity=64 time=0\n",
      "note_off channel=0 note=58 velocity=64 time=24\n",
      "note_on channel=0 note=58 velocity=100 time=0\n",
      "note_off channel=0 note=58 velocity=64 time=24\n",
      "note_on channel=0 note=74 velocity=100 time=0\n",
      "note_off channel=0 note=74 velocity=64 time=24\n",
      "note_on channel=0 note=69 velocity=100 time=24\n",
      "note_off channel=0 note=69 velocity=64 time=24\n",
      "note_on channel=0 note=68 velocity=100 time=48\n",
      "note_off channel=0 note=68 velocity=64 time=24\n",
      "note_on channel=0 note=67 velocity=100 time=24\n",
      "note_off channel=0 note=67 velocity=64 time=24\n",
      "note_on channel=0 note=65 velocity=100 time=24\n",
      "note_on channel=0 note=62 velocity=100 time=48\n",
      "note_off channel=0 note=65 velocity=64 time=0\n",
      "note_off channel=0 note=62 velocity=64 time=24\n",
      "note_on channel=0 note=65 velocity=100 time=0\n",
      "note_off channel=0 note=65 velocity=64 time=24\n",
      "note_on channel=0 note=67 velocity=100 time=0\n",
      "note_on channel=0 note=60 velocity=100 time=24\n",
      "note_off channel=0 note=67 velocity=64 time=0\n",
      "note_off channel=0 note=60 velocity=64 time=24\n",
      "note_on channel=0 note=60 velocity=100 time=0\n",
      "note_off channel=0 note=60 velocity=64 time=24\n",
      "note_on channel=0 note=74 velocity=100 time=0\n",
      "note_off channel=0 note=74 velocity=64 time=24\n",
      "note_on channel=0 note=69 velocity=100 time=24\n",
      "note_off channel=0 note=69 velocity=64 time=24\n",
      "note_on channel=0 note=68 velocity=100 time=48\n",
      "note_off channel=0 note=68 velocity=64 time=24\n",
      "note_on channel=0 note=67 velocity=100 time=24\n",
      "note_off channel=0 note=67 velocity=64 time=24\n",
      "note_on channel=0 note=65 velocity=100 time=24\n",
      "note_on channel=0 note=62 velocity=100 time=48\n",
      "note_off channel=0 note=65 velocity=64 time=0\n",
      "note_off channel=0 note=62 velocity=64 time=24\n",
      "note_on channel=0 note=65 velocity=100 time=0\n",
      "note_off channel=0 note=65 velocity=64 time=24\n",
      "note_on channel=0 note=67 velocity=100 time=0\n",
      "note_on channel=0 note=62 velocity=100 time=24\n",
      "note_off channel=0 note=67 velocity=64 time=0\n",
      "note_off channel=0 note=62 velocity=64 time=24\n",
      "note_on channel=0 note=62 velocity=100 time=0\n",
      "note_off channel=0 note=62 velocity=64 time=24\n",
      "note_on channel=0 note=74 velocity=100 time=0\n",
      "note_off channel=0 note=74 velocity=64 time=24\n",
      "note_on channel=0 note=69 velocity=100 time=24\n",
      "note_off channel=0 note=69 velocity=64 time=24\n",
      "note_on channel=0 note=68 velocity=100 time=48\n",
      "note_off channel=0 note=68 velocity=64 time=24\n",
      "note_on channel=0 note=67 velocity=100 time=24\n",
      "note_off channel=0 note=67 velocity=64 time=24\n",
      "note_on channel=0 note=65 velocity=100 time=24\n",
      "note_on channel=0 note=62 velocity=100 time=48\n",
      "note_off channel=0 note=65 velocity=64 time=0\n",
      "note_off channel=0 note=62 velocity=64 time=24\n",
      "note_on channel=0 note=65 velocity=100 time=0\n",
      "note_off channel=0 note=65 velocity=64 time=24\n",
      "note_on channel=0 note=67 velocity=100 time=0\n",
      "note_on channel=0 note=62 velocity=100 time=24\n",
      "note_off channel=0 note=67 velocity=64 time=0\n",
      "note_off channel=0 note=62 velocity=64 time=24\n",
      "note_on channel=0 note=62 velocity=100 time=0\n",
      "note_off channel=0 note=62 velocity=64 time=24\n",
      "note_on channel=0 note=74 velocity=100 time=0\n",
      "note_off channel=0 note=74 velocity=64 time=24\n",
      "note_on channel=0 note=69 velocity=100 time=24\n",
      "note_off channel=0 note=69 velocity=64 time=24\n",
      "note_on channel=0 note=68 velocity=100 time=48\n",
      "note_off channel=0 note=68 velocity=64 time=24\n",
      "note_on channel=0 note=67 velocity=100 time=24\n",
      "note_off channel=0 note=67 velocity=64 time=24\n",
      "note_on channel=0 note=65 velocity=100 time=24\n",
      "note_on channel=0 note=62 velocity=100 time=48\n",
      "note_off channel=0 note=65 velocity=64 time=0\n",
      "note_off channel=0 note=62 velocity=64 time=24\n",
      "note_on channel=0 note=65 velocity=100 time=0\n",
      "note_off channel=0 note=65 velocity=64 time=24\n",
      "note_on channel=0 note=67 velocity=100 time=0\n",
      "note_on channel=0 note=58 velocity=100 time=24\n",
      "note_off channel=0 note=67 velocity=64 time=0\n",
      "note_off channel=0 note=58 velocity=64 time=24\n",
      "note_on channel=0 note=58 velocity=100 time=0\n",
      "note_off channel=0 note=58 velocity=64 time=24\n",
      "note_on channel=0 note=74 velocity=100 time=0\n",
      "note_off channel=0 note=74 velocity=64 time=24\n",
      "note_on channel=0 note=69 velocity=100 time=24\n",
      "note_off channel=0 note=69 velocity=64 time=24\n",
      "note_on channel=0 note=68 velocity=100 time=48\n",
      "note_off channel=0 note=68 velocity=64 time=24\n",
      "note_on channel=0 note=67 velocity=100 time=24\n",
      "note_off channel=0 note=67 velocity=64 time=24\n",
      "note_on channel=0 note=65 velocity=100 time=24\n",
      "note_on channel=0 note=62 velocity=100 time=48\n",
      "note_off channel=0 note=65 velocity=64 time=0\n",
      "note_off channel=0 note=62 velocity=64 time=24\n",
      "note_on channel=0 note=65 velocity=100 time=0\n",
      "note_off channel=0 note=65 velocity=64 time=24\n",
      "note_on channel=0 note=67 velocity=100 time=0\n",
      "note_on channel=0 note=60 velocity=100 time=24\n",
      "note_off channel=0 note=67 velocity=64 time=0\n",
      "note_off channel=0 note=60 velocity=64 time=24\n",
      "note_on channel=0 note=60 velocity=100 time=0\n",
      "note_off channel=0 note=60 velocity=64 time=24\n",
      "note_on channel=0 note=74 velocity=100 time=0\n",
      "note_off channel=0 note=74 velocity=64 time=24\n",
      "note_on channel=0 note=69 velocity=100 time=24\n",
      "note_off channel=0 note=69 velocity=64 time=24\n",
      "note_on channel=0 note=68 velocity=100 time=48\n",
      "note_off channel=0 note=68 velocity=64 time=24\n",
      "note_on channel=0 note=67 velocity=100 time=24\n",
      "note_off channel=0 note=67 velocity=64 time=24\n",
      "note_on channel=0 note=65 velocity=100 time=24\n",
      "note_on channel=0 note=62 velocity=100 time=48\n",
      "note_off channel=0 note=65 velocity=64 time=0\n",
      "note_off channel=0 note=62 velocity=64 time=24\n",
      "note_on channel=0 note=65 velocity=100 time=0\n",
      "note_off channel=0 note=65 velocity=64 time=24\n",
      "note_on channel=0 note=67 velocity=100 time=0\n",
      "pitchwheel channel=0 pitch=0 time=24\n",
      "pitchwheel channel=0 pitch=0 time=0\n",
      "control_change channel=0 control=6 value=12 time=0\n",
      "control_change channel=0 control=6 value=12 time=0\n",
      "control_change channel=0 control=7 value=100 time=0\n",
      "control_change channel=0 control=7 value=100 time=0\n",
      "control_change channel=0 control=10 value=64 time=0\n",
      "control_change channel=0 control=10 value=64 time=0\n",
      "control_change channel=0 control=100 value=0 time=0\n",
      "control_change channel=0 control=100 value=0 time=0\n",
      "control_change channel=0 control=101 value=0 time=0\n",
      "control_change channel=0 control=101 value=0 time=0\n",
      "note_off channel=0 note=67 velocity=64 time=0\n",
      "<meta message end_of_track time=0>\n",
      "[0.00000000e+00 7.94510422e-06 3.17569391e-05 ... 2.56148109e-04\n",
      " 1.26623092e-04 0.00000000e+00]\n"
     ]
    }
   ],
   "source": [
    "note_list = parse_MIDI('Saw.mid', 160)\n",
    "play_list = np.array([])\n",
    "for i in note_list:\n",
    "    note_sine = genSine(i[0], i[2], i[1])\n",
    "    #note_sine = wavetable(i[0], i[2], i[1])\n",
    "    note_sine = adsr(note_sine)\n",
    "    play_list = np.concatenate((play_list, note_sine))\n",
    "    # play_list = lfo(play_list, 2)\n",
    "    # play_list = lowpass(play_list, cutoff=440)\n",
    "    # play_list = flanger(play_list, .004, 0.11, 0.57)\n",
    "    # play_list = wahwah(play_list)\n",
    "print(play_list)"
   ]
  },
  {
   "cell_type": "code",
   "execution_count": 76,
   "metadata": {},
   "outputs": [
    {
     "output_type": "execute_result",
     "data": {
      "text/plain": [
       "array([1.        , 0.99959404, 0.99837649, ..., 0.99634834, 0.99837649,\n",
       "       0.99959404])"
      ]
     },
     "metadata": {},
     "execution_count": 76
    }
   ],
   "source": [
    "t = np.arange(0, 2, 1/44100)\n",
    "np.cos(2*np.pi*200*t)"
   ]
  },
  {
   "cell_type": "code",
   "execution_count": 77,
   "metadata": {},
   "outputs": [],
   "source": [
    "def downSample(x, new_rate):\n",
    "    interp = scipy.interpolate.CubicSpline(np.arange(0, len(x)), x,bc_type='natural')\n",
    "    curr_rate = 48000\n",
    "    sample_steps = curr_rate / new_rate\n",
    "    ind_arr = np.arange(0, len(x), sample_steps)\n",
    "    out = np.zeros(len(ind_arr))\n",
    "    #read table\n",
    "    for ind, i in enumerate(ind_arr):\n",
    "        if i != int(i):\n",
    "            out[ind] = interp(i)\n",
    "        elif i == int(i):\n",
    "            out[ind] = x[int(i)]\n",
    "    return out"
   ]
  },
  {
   "cell_type": "code",
   "execution_count": 78,
   "metadata": {},
   "outputs": [],
   "source": [
    "play_list = play_list[:int(len(play_list)/2)]"
   ]
  },
  {
   "cell_type": "code",
   "execution_count": 79,
   "metadata": {},
   "outputs": [],
   "source": [
    "downsampled = downSample(play_list, 22050)"
   ]
  },
  {
   "cell_type": "code",
   "execution_count": 86,
   "metadata": {},
   "outputs": [
    {
     "output_type": "error",
     "ename": "AttributeError",
     "evalue": "'numpy.ndarray' object has no attribute 'd_type'",
     "traceback": [
      "\u001b[0;31m---------------------------------------------------------------------------\u001b[0m",
      "\u001b[0;31mAttributeError\u001b[0m                            Traceback (most recent call last)",
      "\u001b[0;32m<ipython-input-86-ed1031489047>\u001b[0m in \u001b[0;36m<module>\u001b[0;34m\u001b[0m\n\u001b[0;32m----> 1\u001b[0;31m \u001b[0mplay_list\u001b[0m\u001b[0;34m.\u001b[0m\u001b[0md_type\u001b[0m\u001b[0;34m(\u001b[0m\u001b[0;34m)\u001b[0m\u001b[0;34m\u001b[0m\u001b[0;34m\u001b[0m\u001b[0m\n\u001b[0m",
      "\u001b[0;31mAttributeError\u001b[0m: 'numpy.ndarray' object has no attribute 'd_type'"
     ]
    }
   ],
   "source": [
    "play_list"
   ]
  },
  {
   "cell_type": "code",
   "execution_count": 164,
   "metadata": {},
   "outputs": [],
   "source": [
    "#  b_orig, the original bit depth\n",
    "#      b_new, the new bit depth to which samples are to be quantized\n",
    "#      F_in, an array of N digital audio samples that are to be\n",
    "#      quantized, dithered, and noise shaped.  It’s assumed that these are read\n",
    "#      in from a RAW file and are values between\n",
    "#      –2^b_orig-1 and (2^b_orig-1)-1.\n",
    "#      c, a scaling factor for the noise shaping\n",
    "# Output:\n",
    "#      F_out, an array of N digital audio samples quantized to bit\n",
    "#      depth b_new using dither and noise shaping*/\n",
    "    # b = 8\n",
    "    # sample_max = 2^(b-1)-1\n",
    "    # y_quantized = floor(y*sample_max)\n",
    "def quantize_dither(b_orig, b_new, F_in):\n",
    "    s = (2**b_orig)/(2**b_new)\n",
    "    c = 0.8  #//Other scaling factors can be tried.*/\n",
    "    e = 0\n",
    "    sample_max = 2**(b_new-1)-1\n",
    "    F_out = np.zeros(len(F_in))\n",
    "#    seed = random.seed()\n",
    "    for i in range(len(F_in)):\n",
    "        #/*Get a random number between −1 and 1 from some probability density function*/\n",
    "        #   d = pdf();\n",
    "        d = random.triangular(-1, 1)\n",
    "        # F_scaled  = int(F_in[i] / s)  #//Integer division, discarding remainder\n",
    "        #F_scaled_plus_dith_and_error = F_scaled + d + c*e\n",
    "        F_scaled = np.floor(F_in[i]*sample_max)\n",
    "        F_scaled_plus_dith_and_error = F_scaled + d*.2 + c*e\n",
    "        F_out[i] =  F_scaled_plus_dith_and_error\n",
    "        e = F_scaled - F_out[i]\n",
    "    return F_out"
   ]
  },
  {
   "cell_type": "code",
   "execution_count": 95,
   "metadata": {},
   "outputs": [
    {
     "output_type": "execute_result",
     "data": {
      "text/plain": [
       "0.0"
      ]
     },
     "metadata": {},
     "execution_count": 95
    }
   ],
   "source": [
    "import random\n",
    "np.floor(random.uniform(-1, 1))"
   ]
  },
  {
   "cell_type": "code",
   "execution_count": 88,
   "metadata": {},
   "outputs": [],
   "source": [
    "from IPython.display import Audio\n",
    "import scipy\n",
    "from scipy.io.wavfile import write\n",
    "write(\"test.wav\", 48000, play_list.astype(np.float32))"
   ]
  },
  {
   "cell_type": "code",
   "execution_count": 127,
   "metadata": {},
   "outputs": [],
   "source": [
    "write(\"test2.wav\", 48000, new_data.astype(np.int16))"
   ]
  },
  {
   "cell_type": "code",
   "execution_count": 128,
   "metadata": {},
   "outputs": [],
   "source": [
    "from scipy.io.wavfile import read\n",
    "fs, data = read(\"test.wav\")\n",
    "fs1, data1 = read(\"test2.wav\")"
   ]
  },
  {
   "cell_type": "code",
   "execution_count": 179,
   "metadata": {},
   "outputs": [],
   "source": [
    "write(\"hipass.wav\", 48000, s)"
   ]
  },
  {
   "cell_type": "code",
   "execution_count": 178,
   "metadata": {},
   "outputs": [
    {
     "output_type": "stream",
     "name": "stdout",
     "text": [
      "[-0.0011171  -0.00147707 -0.00213404 -0.00319502 -0.00475112 -0.00686938\n -0.00958597 -0.01290109 -0.01677613 -0.02113339 -0.02585833 -0.0308044\n -0.03580014 -0.04065813 -0.04518528 -0.04919375 -0.05251181 -0.05499391\n -0.0565294   0.94295093 -0.0565294  -0.05499391 -0.05251181 -0.04919375\n -0.04518528 -0.04065813 -0.03580014 -0.0308044  -0.02585833 -0.02113339\n -0.01677613 -0.01290109 -0.00958597 -0.00686938 -0.00475112 -0.00319502\n -0.00213404 -0.00147707 -0.0011171 ]\n"
     ]
    }
   ],
   "source": [
    "# Example code, computes the coefficients of a high-pass windowed-sinc filter.\n",
    "\n",
    "# Configuration.\n",
    "\n",
    "fH = 1000 / 48000  # Cutoff frequency as a fraction of the sampling rate.\n",
    "N = 39  # Filter length, must be odd.\n",
    "\n",
    "# Compute sinc filter.\n",
    "h = np.sinc(2 * fH * (np.arange(N) - (N - 1) / 2))\n",
    "\n",
    "# Apply window.\n",
    "h *= np.hamming(N)\n",
    "\n",
    "# Normalize to get unity gain.\n",
    "h /= np.sum(h)\n",
    "\n",
    "# Create a high-pass filter from the low-pass filter through spectral inversion.\n",
    "h = -h\n",
    "h[(N - 1) // 2] += 1\n",
    "\n",
    "# Applying the filter to a signal s can be as simple as writing\n",
    "s = np.convolve(play_list, h)"
   ]
  },
  {
   "cell_type": "code",
   "execution_count": 112,
   "metadata": {},
   "outputs": [
    {
     "output_type": "execute_result",
     "data": {
      "text/plain": [
       "numpy.float32"
      ]
     },
     "metadata": {},
     "execution_count": 112
    }
   ],
   "source": [
    "type(data[0])"
   ]
  },
  {
   "cell_type": "code",
   "execution_count": 165,
   "metadata": {},
   "outputs": [],
   "source": [
    "new_data = quantize_dither(32, 16, data)"
   ]
  },
  {
   "cell_type": "code",
   "execution_count": 169,
   "metadata": {},
   "outputs": [
    {
     "output_type": "execute_result",
     "data": {
      "text/plain": [
       "array([-0.06326983,  0.00230518,  0.94348284, ...,  0.12581188,\n",
       "       -0.10440325,  0.27046169])"
      ]
     },
     "metadata": {},
     "execution_count": 169
    }
   ],
   "source": [
    "new_data"
   ]
  },
  {
   "cell_type": "code",
   "execution_count": 167,
   "metadata": {},
   "outputs": [],
   "source": [
    "new_data_n = new_data / np.max(new_data)"
   ]
  },
  {
   "cell_type": "code",
   "execution_count": 170,
   "metadata": {},
   "outputs": [
    {
     "output_type": "execute_result",
     "data": {
      "text/plain": [
       "array([-3.12734133e-06,  1.13941742e-07,  4.66350657e-05, ...,\n",
       "        6.21870929e-06, -5.16050995e-06,  1.33685514e-05])"
      ]
     },
     "metadata": {},
     "execution_count": 170
    }
   ],
   "source": [
    "new_data_n"
   ]
  },
  {
   "cell_type": "code",
   "execution_count": 168,
   "metadata": {},
   "outputs": [],
   "source": [
    "write(\"test2.wav\", 48000, new_data_n)"
   ]
  },
  {
   "cell_type": "code",
   "execution_count": 147,
   "metadata": {},
   "outputs": [],
   "source": [
    "new_data = quantize_dither(32, 8, data)"
   ]
  },
  {
   "cell_type": "code",
   "execution_count": 149,
   "metadata": {},
   "outputs": [],
   "source": [
    "new_data1 = quantize_dither(32, 1, data)"
   ]
  },
  {
   "cell_type": "code",
   "execution_count": 152,
   "metadata": {},
   "outputs": [],
   "source": [
    "write(\"test3.wav\", 48000, new_data)"
   ]
  },
  {
   "cell_type": "code",
   "execution_count": 153,
   "metadata": {},
   "outputs": [],
   "source": [
    "write(\"test4.wav\", 48000, new_data1)"
   ]
  },
  {
   "cell_type": "code",
   "execution_count": 163,
   "metadata": {},
   "outputs": [
    {
     "output_type": "execute_result",
     "data": {
      "text/plain": [
       "array([nan, nan, nan, ..., nan, nan, nan])"
      ]
     },
     "metadata": {},
     "execution_count": 163
    }
   ],
   "source": [
    "# new_data = new_data / np.max(new_data)\n",
    "# new_data1 = new_data1 / np.max(new_data1)\n",
    "new_data"
   ]
  },
  {
   "cell_type": "code",
   "execution_count": 157,
   "metadata": {},
   "outputs": [
    {
     "output_type": "execute_result",
     "data": {
      "text/plain": [
       "0.0006231057200190515"
      ]
     },
     "metadata": {},
     "execution_count": 157
    }
   ],
   "source": []
  },
  {
   "cell_type": "code",
   "execution_count": 115,
   "metadata": {},
   "outputs": [
    {
     "output_type": "stream",
     "name": "stdout",
     "text": [
      "<class 'numpy.float64'>\n<class 'numpy.int16'>\n"
     ]
    }
   ],
   "source": [
    "print(type(new_data[0]))\n",
    "print(type(data1[0]))"
   ]
  },
  {
   "cell_type": "code",
   "execution_count": 125,
   "metadata": {},
   "outputs": [
    {
     "output_type": "stream",
     "name": "stdout",
     "text": [
      "[ 0.16129528 -0.08700438  0.09421565 ... -0.20964637  0.01104958\n -0.27409899]\n"
     ]
    }
   ],
   "source": [
    "print(new_data)"
   ]
  },
  {
   "cell_type": "code",
   "execution_count": 139,
   "metadata": {},
   "outputs": [
    {
     "output_type": "execute_result",
     "data": {
      "text/plain": [
       "array([0, 0, 0, ..., 0, 0, 0], dtype=int16)"
      ]
     },
     "metadata": {},
     "execution_count": 139
    }
   ],
   "source": [
    "new_data.astype(np.int16)"
   ]
  },
  {
   "cell_type": "code",
   "execution_count": 129,
   "metadata": {},
   "outputs": [
    {
     "output_type": "execute_result",
     "data": {
      "text/plain": [
       "array([0, 0, 0, ..., 0, 0, 0], dtype=int16)"
      ]
     },
     "metadata": {},
     "execution_count": 129
    }
   ],
   "source": [
    "data1"
   ]
  },
  {
   "cell_type": "code",
   "execution_count": 92,
   "metadata": {},
   "outputs": [
    {
     "output_type": "execute_result",
     "data": {
      "text/plain": [
       "numpy.int16"
      ]
     },
     "metadata": {},
     "execution_count": 92
    }
   ],
   "source": [
    "type(data1[0])"
   ]
  },
  {
   "cell_type": "code",
   "execution_count": 30,
   "metadata": {},
   "outputs": [],
   "source": [
    "write(\"test1.wav\", 22050, downsampled)"
   ]
  },
  {
   "cell_type": "code",
   "execution_count": 14,
   "metadata": {},
   "outputs": [
    {
     "output_type": "execute_result",
     "data": {
      "text/plain": [
       "0.9448818897637795"
      ]
     },
     "metadata": {},
     "execution_count": 14
    }
   ],
   "source": [
    "convert_velocity(120)"
   ]
  },
  {
   "source": [
    "convert_clocks_per_click(36, 60)"
   ],
   "cell_type": "code",
   "metadata": {},
   "execution_count": 13,
   "outputs": [
    {
     "output_type": "execute_result",
     "data": {
      "text/plain": [
       "0.0002777777777777778"
      ]
     },
     "metadata": {},
     "execution_count": 13
    }
   ]
  },
  {
   "cell_type": "code",
   "execution_count": 15,
   "metadata": {},
   "outputs": [
    {
     "output_type": "execute_result",
     "data": {
      "text/plain": [
       "440.0"
      ]
     },
     "metadata": {},
     "execution_count": 15
    }
   ],
   "source": [
    "convert_frequency(69)"
   ]
  },
  {
   "cell_type": "code",
   "execution_count": 18,
   "metadata": {},
   "outputs": [],
   "source": [
    "    from scipy import signal\n",
    "    sample_rate = 48000\n",
    "    t = np.arange(0,128/sample_rate,1/sample_rate)\n",
    "    freq = 375\n",
    "    sine_wavetable = np.sin(2 * np.pi * freq * t)\n",
    "    saw_wavetable = scipy.signal.sawtooth(2 * np.pi * freq * t)\n",
    "    square_wavetable = scipy.signal.square(2 * np.pi * freq * t)\n",
    "    tri_wavetable = scipy.signal.sawtooth(2 * np.pi * freq * t, width=0.5)"
   ]
  },
  {
   "cell_type": "code",
   "execution_count": 27,
   "metadata": {},
   "outputs": [
    {
     "output_type": "execute_result",
     "data": {
      "text/plain": [
       "[<matplotlib.lines.Line2D at 0x1186ddca0>]"
      ]
     },
     "metadata": {},
     "execution_count": 27
    },
    {
     "output_type": "display_data",
     "data": {
      "text/plain": "<Figure size 432x288 with 1 Axes>",
      "image/svg+xml": "<?xml version=\"1.0\" encoding=\"utf-8\" standalone=\"no\"?>\n<!DOCTYPE svg PUBLIC \"-//W3C//DTD SVG 1.1//EN\"\n  \"http://www.w3.org/Graphics/SVG/1.1/DTD/svg11.dtd\">\n<!-- Created with matplotlib (https://matplotlib.org/) -->\n<svg height=\"248.518125pt\" version=\"1.1\" viewBox=\"0 0 386.845313 248.518125\" width=\"386.845313pt\" xmlns=\"http://www.w3.org/2000/svg\" xmlns:xlink=\"http://www.w3.org/1999/xlink\">\n <defs>\n  <style type=\"text/css\">\n*{stroke-linecap:butt;stroke-linejoin:round;}\n  </style>\n </defs>\n <g id=\"figure_1\">\n  <g id=\"patch_1\">\n   <path d=\"M 0 248.518125 \nL 386.845313 248.518125 \nL 386.845313 0 \nL 0 0 \nz\n\" style=\"fill:none;\"/>\n  </g>\n  <g id=\"axes_1\">\n   <g id=\"patch_2\">\n    <path d=\"M 44.845313 224.64 \nL 379.645313 224.64 \nL 379.645313 7.2 \nL 44.845313 7.2 \nz\n\" style=\"fill:#ffffff;\"/>\n   </g>\n   <g id=\"matplotlib.axis_1\">\n    <g id=\"xtick_1\">\n     <g id=\"line2d_1\">\n      <defs>\n       <path d=\"M 0 0 \nL 0 3.5 \n\" id=\"mc568cc93a4\" style=\"stroke:#000000;stroke-width:0.8;\"/>\n      </defs>\n      <g>\n       <use style=\"stroke:#000000;stroke-width:0.8;\" x=\"60.063494\" xlink:href=\"#mc568cc93a4\" y=\"224.64\"/>\n      </g>\n     </g>\n     <g id=\"text_1\">\n      <!-- 0 -->\n      <defs>\n       <path d=\"M 31.78125 66.40625 \nQ 24.171875 66.40625 20.328125 58.90625 \nQ 16.5 51.421875 16.5 36.375 \nQ 16.5 21.390625 20.328125 13.890625 \nQ 24.171875 6.390625 31.78125 6.390625 \nQ 39.453125 6.390625 43.28125 13.890625 \nQ 47.125 21.390625 47.125 36.375 \nQ 47.125 51.421875 43.28125 58.90625 \nQ 39.453125 66.40625 31.78125 66.40625 \nz\nM 31.78125 74.21875 \nQ 44.046875 74.21875 50.515625 64.515625 \nQ 56.984375 54.828125 56.984375 36.375 \nQ 56.984375 17.96875 50.515625 8.265625 \nQ 44.046875 -1.421875 31.78125 -1.421875 \nQ 19.53125 -1.421875 13.0625 8.265625 \nQ 6.59375 17.96875 6.59375 36.375 \nQ 6.59375 54.828125 13.0625 64.515625 \nQ 19.53125 74.21875 31.78125 74.21875 \nz\n\" id=\"DejaVuSans-48\"/>\n      </defs>\n      <g transform=\"translate(56.882244 239.238437)scale(0.1 -0.1)\">\n       <use xlink:href=\"#DejaVuSans-48\"/>\n      </g>\n     </g>\n    </g>\n    <g id=\"xtick_2\">\n     <g id=\"line2d_2\">\n      <g>\n       <use style=\"stroke:#000000;stroke-width:0.8;\" x=\"107.994776\" xlink:href=\"#mc568cc93a4\" y=\"224.64\"/>\n      </g>\n     </g>\n     <g id=\"text_2\">\n      <!-- 20 -->\n      <defs>\n       <path d=\"M 19.1875 8.296875 \nL 53.609375 8.296875 \nL 53.609375 0 \nL 7.328125 0 \nL 7.328125 8.296875 \nQ 12.9375 14.109375 22.625 23.890625 \nQ 32.328125 33.6875 34.8125 36.53125 \nQ 39.546875 41.84375 41.421875 45.53125 \nQ 43.3125 49.21875 43.3125 52.78125 \nQ 43.3125 58.59375 39.234375 62.25 \nQ 35.15625 65.921875 28.609375 65.921875 \nQ 23.96875 65.921875 18.8125 64.3125 \nQ 13.671875 62.703125 7.8125 59.421875 \nL 7.8125 69.390625 \nQ 13.765625 71.78125 18.9375 73 \nQ 24.125 74.21875 28.421875 74.21875 \nQ 39.75 74.21875 46.484375 68.546875 \nQ 53.21875 62.890625 53.21875 53.421875 \nQ 53.21875 48.921875 51.53125 44.890625 \nQ 49.859375 40.875 45.40625 35.40625 \nQ 44.1875 33.984375 37.640625 27.21875 \nQ 31.109375 20.453125 19.1875 8.296875 \nz\n\" id=\"DejaVuSans-50\"/>\n      </defs>\n      <g transform=\"translate(101.632276 239.238437)scale(0.1 -0.1)\">\n       <use xlink:href=\"#DejaVuSans-50\"/>\n       <use x=\"63.623047\" xlink:href=\"#DejaVuSans-48\"/>\n      </g>\n     </g>\n    </g>\n    <g id=\"xtick_3\">\n     <g id=\"line2d_3\">\n      <g>\n       <use style=\"stroke:#000000;stroke-width:0.8;\" x=\"155.926057\" xlink:href=\"#mc568cc93a4\" y=\"224.64\"/>\n      </g>\n     </g>\n     <g id=\"text_3\">\n      <!-- 40 -->\n      <defs>\n       <path d=\"M 37.796875 64.3125 \nL 12.890625 25.390625 \nL 37.796875 25.390625 \nz\nM 35.203125 72.90625 \nL 47.609375 72.90625 \nL 47.609375 25.390625 \nL 58.015625 25.390625 \nL 58.015625 17.1875 \nL 47.609375 17.1875 \nL 47.609375 0 \nL 37.796875 0 \nL 37.796875 17.1875 \nL 4.890625 17.1875 \nL 4.890625 26.703125 \nz\n\" id=\"DejaVuSans-52\"/>\n      </defs>\n      <g transform=\"translate(149.563557 239.238437)scale(0.1 -0.1)\">\n       <use xlink:href=\"#DejaVuSans-52\"/>\n       <use x=\"63.623047\" xlink:href=\"#DejaVuSans-48\"/>\n      </g>\n     </g>\n    </g>\n    <g id=\"xtick_4\">\n     <g id=\"line2d_4\">\n      <g>\n       <use style=\"stroke:#000000;stroke-width:0.8;\" x=\"203.857338\" xlink:href=\"#mc568cc93a4\" y=\"224.64\"/>\n      </g>\n     </g>\n     <g id=\"text_4\">\n      <!-- 60 -->\n      <defs>\n       <path d=\"M 33.015625 40.375 \nQ 26.375 40.375 22.484375 35.828125 \nQ 18.609375 31.296875 18.609375 23.390625 \nQ 18.609375 15.53125 22.484375 10.953125 \nQ 26.375 6.390625 33.015625 6.390625 \nQ 39.65625 6.390625 43.53125 10.953125 \nQ 47.40625 15.53125 47.40625 23.390625 \nQ 47.40625 31.296875 43.53125 35.828125 \nQ 39.65625 40.375 33.015625 40.375 \nz\nM 52.59375 71.296875 \nL 52.59375 62.3125 \nQ 48.875 64.0625 45.09375 64.984375 \nQ 41.3125 65.921875 37.59375 65.921875 \nQ 27.828125 65.921875 22.671875 59.328125 \nQ 17.53125 52.734375 16.796875 39.40625 \nQ 19.671875 43.65625 24.015625 45.921875 \nQ 28.375 48.1875 33.59375 48.1875 \nQ 44.578125 48.1875 50.953125 41.515625 \nQ 57.328125 34.859375 57.328125 23.390625 \nQ 57.328125 12.15625 50.6875 5.359375 \nQ 44.046875 -1.421875 33.015625 -1.421875 \nQ 20.359375 -1.421875 13.671875 8.265625 \nQ 6.984375 17.96875 6.984375 36.375 \nQ 6.984375 53.65625 15.1875 63.9375 \nQ 23.390625 74.21875 37.203125 74.21875 \nQ 40.921875 74.21875 44.703125 73.484375 \nQ 48.484375 72.75 52.59375 71.296875 \nz\n\" id=\"DejaVuSans-54\"/>\n      </defs>\n      <g transform=\"translate(197.494838 239.238437)scale(0.1 -0.1)\">\n       <use xlink:href=\"#DejaVuSans-54\"/>\n       <use x=\"63.623047\" xlink:href=\"#DejaVuSans-48\"/>\n      </g>\n     </g>\n    </g>\n    <g id=\"xtick_5\">\n     <g id=\"line2d_5\">\n      <g>\n       <use style=\"stroke:#000000;stroke-width:0.8;\" x=\"251.78862\" xlink:href=\"#mc568cc93a4\" y=\"224.64\"/>\n      </g>\n     </g>\n     <g id=\"text_5\">\n      <!-- 80 -->\n      <defs>\n       <path d=\"M 31.78125 34.625 \nQ 24.75 34.625 20.71875 30.859375 \nQ 16.703125 27.09375 16.703125 20.515625 \nQ 16.703125 13.921875 20.71875 10.15625 \nQ 24.75 6.390625 31.78125 6.390625 \nQ 38.8125 6.390625 42.859375 10.171875 \nQ 46.921875 13.96875 46.921875 20.515625 \nQ 46.921875 27.09375 42.890625 30.859375 \nQ 38.875 34.625 31.78125 34.625 \nz\nM 21.921875 38.8125 \nQ 15.578125 40.375 12.03125 44.71875 \nQ 8.5 49.078125 8.5 55.328125 \nQ 8.5 64.0625 14.71875 69.140625 \nQ 20.953125 74.21875 31.78125 74.21875 \nQ 42.671875 74.21875 48.875 69.140625 \nQ 55.078125 64.0625 55.078125 55.328125 \nQ 55.078125 49.078125 51.53125 44.71875 \nQ 48 40.375 41.703125 38.8125 \nQ 48.828125 37.15625 52.796875 32.3125 \nQ 56.78125 27.484375 56.78125 20.515625 \nQ 56.78125 9.90625 50.3125 4.234375 \nQ 43.84375 -1.421875 31.78125 -1.421875 \nQ 19.734375 -1.421875 13.25 4.234375 \nQ 6.78125 9.90625 6.78125 20.515625 \nQ 6.78125 27.484375 10.78125 32.3125 \nQ 14.796875 37.15625 21.921875 38.8125 \nz\nM 18.3125 54.390625 \nQ 18.3125 48.734375 21.84375 45.5625 \nQ 25.390625 42.390625 31.78125 42.390625 \nQ 38.140625 42.390625 41.71875 45.5625 \nQ 45.3125 48.734375 45.3125 54.390625 \nQ 45.3125 60.0625 41.71875 63.234375 \nQ 38.140625 66.40625 31.78125 66.40625 \nQ 25.390625 66.40625 21.84375 63.234375 \nQ 18.3125 60.0625 18.3125 54.390625 \nz\n\" id=\"DejaVuSans-56\"/>\n      </defs>\n      <g transform=\"translate(245.42612 239.238437)scale(0.1 -0.1)\">\n       <use xlink:href=\"#DejaVuSans-56\"/>\n       <use x=\"63.623047\" xlink:href=\"#DejaVuSans-48\"/>\n      </g>\n     </g>\n    </g>\n    <g id=\"xtick_6\">\n     <g id=\"line2d_6\">\n      <g>\n       <use style=\"stroke:#000000;stroke-width:0.8;\" x=\"299.719901\" xlink:href=\"#mc568cc93a4\" y=\"224.64\"/>\n      </g>\n     </g>\n     <g id=\"text_6\">\n      <!-- 100 -->\n      <defs>\n       <path d=\"M 12.40625 8.296875 \nL 28.515625 8.296875 \nL 28.515625 63.921875 \nL 10.984375 60.40625 \nL 10.984375 69.390625 \nL 28.421875 72.90625 \nL 38.28125 72.90625 \nL 38.28125 8.296875 \nL 54.390625 8.296875 \nL 54.390625 0 \nL 12.40625 0 \nz\n\" id=\"DejaVuSans-49\"/>\n      </defs>\n      <g transform=\"translate(290.176151 239.238437)scale(0.1 -0.1)\">\n       <use xlink:href=\"#DejaVuSans-49\"/>\n       <use x=\"63.623047\" xlink:href=\"#DejaVuSans-48\"/>\n       <use x=\"127.246094\" xlink:href=\"#DejaVuSans-48\"/>\n      </g>\n     </g>\n    </g>\n    <g id=\"xtick_7\">\n     <g id=\"line2d_7\">\n      <g>\n       <use style=\"stroke:#000000;stroke-width:0.8;\" x=\"347.651182\" xlink:href=\"#mc568cc93a4\" y=\"224.64\"/>\n      </g>\n     </g>\n     <g id=\"text_7\">\n      <!-- 120 -->\n      <g transform=\"translate(338.107432 239.238437)scale(0.1 -0.1)\">\n       <use xlink:href=\"#DejaVuSans-49\"/>\n       <use x=\"63.623047\" xlink:href=\"#DejaVuSans-50\"/>\n       <use x=\"127.246094\" xlink:href=\"#DejaVuSans-48\"/>\n      </g>\n     </g>\n    </g>\n   </g>\n   <g id=\"matplotlib.axis_2\">\n    <g id=\"ytick_1\">\n     <g id=\"line2d_8\">\n      <defs>\n       <path d=\"M 0 0 \nL -3.5 0 \n\" id=\"mb50c1b88c5\" style=\"stroke:#000000;stroke-width:0.8;\"/>\n      </defs>\n      <g>\n       <use style=\"stroke:#000000;stroke-width:0.8;\" x=\"44.845313\" xlink:href=\"#mb50c1b88c5\" y=\"214.756364\"/>\n      </g>\n     </g>\n     <g id=\"text_8\">\n      <!-- −1.00 -->\n      <defs>\n       <path d=\"M 10.59375 35.5 \nL 73.1875 35.5 \nL 73.1875 27.203125 \nL 10.59375 27.203125 \nz\n\" id=\"DejaVuSans-8722\"/>\n       <path d=\"M 10.6875 12.40625 \nL 21 12.40625 \nL 21 0 \nL 10.6875 0 \nz\n\" id=\"DejaVuSans-46\"/>\n      </defs>\n      <g transform=\"translate(7.2 218.555582)scale(0.1 -0.1)\">\n       <use xlink:href=\"#DejaVuSans-8722\"/>\n       <use x=\"83.789062\" xlink:href=\"#DejaVuSans-49\"/>\n       <use x=\"147.412109\" xlink:href=\"#DejaVuSans-46\"/>\n       <use x=\"179.199219\" xlink:href=\"#DejaVuSans-48\"/>\n       <use x=\"242.822266\" xlink:href=\"#DejaVuSans-48\"/>\n      </g>\n     </g>\n    </g>\n    <g id=\"ytick_2\">\n     <g id=\"line2d_9\">\n      <g>\n       <use style=\"stroke:#000000;stroke-width:0.8;\" x=\"44.845313\" xlink:href=\"#mb50c1b88c5\" y=\"190.047273\"/>\n      </g>\n     </g>\n     <g id=\"text_9\">\n      <!-- −0.75 -->\n      <defs>\n       <path d=\"M 8.203125 72.90625 \nL 55.078125 72.90625 \nL 55.078125 68.703125 \nL 28.609375 0 \nL 18.3125 0 \nL 43.21875 64.59375 \nL 8.203125 64.59375 \nz\n\" id=\"DejaVuSans-55\"/>\n       <path d=\"M 10.796875 72.90625 \nL 49.515625 72.90625 \nL 49.515625 64.59375 \nL 19.828125 64.59375 \nL 19.828125 46.734375 \nQ 21.96875 47.46875 24.109375 47.828125 \nQ 26.265625 48.1875 28.421875 48.1875 \nQ 40.625 48.1875 47.75 41.5 \nQ 54.890625 34.8125 54.890625 23.390625 \nQ 54.890625 11.625 47.5625 5.09375 \nQ 40.234375 -1.421875 26.90625 -1.421875 \nQ 22.3125 -1.421875 17.546875 -0.640625 \nQ 12.796875 0.140625 7.71875 1.703125 \nL 7.71875 11.625 \nQ 12.109375 9.234375 16.796875 8.0625 \nQ 21.484375 6.890625 26.703125 6.890625 \nQ 35.15625 6.890625 40.078125 11.328125 \nQ 45.015625 15.765625 45.015625 23.390625 \nQ 45.015625 31 40.078125 35.4375 \nQ 35.15625 39.890625 26.703125 39.890625 \nQ 22.75 39.890625 18.8125 39.015625 \nQ 14.890625 38.140625 10.796875 36.28125 \nz\n\" id=\"DejaVuSans-53\"/>\n      </defs>\n      <g transform=\"translate(7.2 193.846491)scale(0.1 -0.1)\">\n       <use xlink:href=\"#DejaVuSans-8722\"/>\n       <use x=\"83.789062\" xlink:href=\"#DejaVuSans-48\"/>\n       <use x=\"147.412109\" xlink:href=\"#DejaVuSans-46\"/>\n       <use x=\"179.199219\" xlink:href=\"#DejaVuSans-55\"/>\n       <use x=\"242.822266\" xlink:href=\"#DejaVuSans-53\"/>\n      </g>\n     </g>\n    </g>\n    <g id=\"ytick_3\">\n     <g id=\"line2d_10\">\n      <g>\n       <use style=\"stroke:#000000;stroke-width:0.8;\" x=\"44.845313\" xlink:href=\"#mb50c1b88c5\" y=\"165.338182\"/>\n      </g>\n     </g>\n     <g id=\"text_10\">\n      <!-- −0.50 -->\n      <g transform=\"translate(7.2 169.137401)scale(0.1 -0.1)\">\n       <use xlink:href=\"#DejaVuSans-8722\"/>\n       <use x=\"83.789062\" xlink:href=\"#DejaVuSans-48\"/>\n       <use x=\"147.412109\" xlink:href=\"#DejaVuSans-46\"/>\n       <use x=\"179.199219\" xlink:href=\"#DejaVuSans-53\"/>\n       <use x=\"242.822266\" xlink:href=\"#DejaVuSans-48\"/>\n      </g>\n     </g>\n    </g>\n    <g id=\"ytick_4\">\n     <g id=\"line2d_11\">\n      <g>\n       <use style=\"stroke:#000000;stroke-width:0.8;\" x=\"44.845313\" xlink:href=\"#mb50c1b88c5\" y=\"140.629091\"/>\n      </g>\n     </g>\n     <g id=\"text_11\">\n      <!-- −0.25 -->\n      <g transform=\"translate(7.2 144.42831)scale(0.1 -0.1)\">\n       <use xlink:href=\"#DejaVuSans-8722\"/>\n       <use x=\"83.789062\" xlink:href=\"#DejaVuSans-48\"/>\n       <use x=\"147.412109\" xlink:href=\"#DejaVuSans-46\"/>\n       <use x=\"179.199219\" xlink:href=\"#DejaVuSans-50\"/>\n       <use x=\"242.822266\" xlink:href=\"#DejaVuSans-53\"/>\n      </g>\n     </g>\n    </g>\n    <g id=\"ytick_5\">\n     <g id=\"line2d_12\">\n      <g>\n       <use style=\"stroke:#000000;stroke-width:0.8;\" x=\"44.845313\" xlink:href=\"#mb50c1b88c5\" y=\"115.92\"/>\n      </g>\n     </g>\n     <g id=\"text_12\">\n      <!-- 0.00 -->\n      <g transform=\"translate(15.579688 119.719219)scale(0.1 -0.1)\">\n       <use xlink:href=\"#DejaVuSans-48\"/>\n       <use x=\"63.623047\" xlink:href=\"#DejaVuSans-46\"/>\n       <use x=\"95.410156\" xlink:href=\"#DejaVuSans-48\"/>\n       <use x=\"159.033203\" xlink:href=\"#DejaVuSans-48\"/>\n      </g>\n     </g>\n    </g>\n    <g id=\"ytick_6\">\n     <g id=\"line2d_13\">\n      <g>\n       <use style=\"stroke:#000000;stroke-width:0.8;\" x=\"44.845313\" xlink:href=\"#mb50c1b88c5\" y=\"91.210909\"/>\n      </g>\n     </g>\n     <g id=\"text_13\">\n      <!-- 0.25 -->\n      <g transform=\"translate(15.579688 95.010128)scale(0.1 -0.1)\">\n       <use xlink:href=\"#DejaVuSans-48\"/>\n       <use x=\"63.623047\" xlink:href=\"#DejaVuSans-46\"/>\n       <use x=\"95.410156\" xlink:href=\"#DejaVuSans-50\"/>\n       <use x=\"159.033203\" xlink:href=\"#DejaVuSans-53\"/>\n      </g>\n     </g>\n    </g>\n    <g id=\"ytick_7\">\n     <g id=\"line2d_14\">\n      <g>\n       <use style=\"stroke:#000000;stroke-width:0.8;\" x=\"44.845313\" xlink:href=\"#mb50c1b88c5\" y=\"66.501818\"/>\n      </g>\n     </g>\n     <g id=\"text_14\">\n      <!-- 0.50 -->\n      <g transform=\"translate(15.579688 70.301037)scale(0.1 -0.1)\">\n       <use xlink:href=\"#DejaVuSans-48\"/>\n       <use x=\"63.623047\" xlink:href=\"#DejaVuSans-46\"/>\n       <use x=\"95.410156\" xlink:href=\"#DejaVuSans-53\"/>\n       <use x=\"159.033203\" xlink:href=\"#DejaVuSans-48\"/>\n      </g>\n     </g>\n    </g>\n    <g id=\"ytick_8\">\n     <g id=\"line2d_15\">\n      <g>\n       <use style=\"stroke:#000000;stroke-width:0.8;\" x=\"44.845313\" xlink:href=\"#mb50c1b88c5\" y=\"41.792727\"/>\n      </g>\n     </g>\n     <g id=\"text_15\">\n      <!-- 0.75 -->\n      <g transform=\"translate(15.579688 45.591946)scale(0.1 -0.1)\">\n       <use xlink:href=\"#DejaVuSans-48\"/>\n       <use x=\"63.623047\" xlink:href=\"#DejaVuSans-46\"/>\n       <use x=\"95.410156\" xlink:href=\"#DejaVuSans-55\"/>\n       <use x=\"159.033203\" xlink:href=\"#DejaVuSans-53\"/>\n      </g>\n     </g>\n    </g>\n    <g id=\"ytick_9\">\n     <g id=\"line2d_16\">\n      <g>\n       <use style=\"stroke:#000000;stroke-width:0.8;\" x=\"44.845313\" xlink:href=\"#mb50c1b88c5\" y=\"17.083636\"/>\n      </g>\n     </g>\n     <g id=\"text_16\">\n      <!-- 1.00 -->\n      <g transform=\"translate(15.579688 20.882855)scale(0.1 -0.1)\">\n       <use xlink:href=\"#DejaVuSans-49\"/>\n       <use x=\"63.623047\" xlink:href=\"#DejaVuSans-46\"/>\n       <use x=\"95.410156\" xlink:href=\"#DejaVuSans-48\"/>\n       <use x=\"159.033203\" xlink:href=\"#DejaVuSans-48\"/>\n      </g>\n     </g>\n    </g>\n   </g>\n   <g id=\"line2d_17\">\n    <path clip-path=\"url(#p7e23ed6ce2)\" d=\"M 60.063494 214.756364 \nL 213.443595 17.083636 \nL 364.427131 211.667727 \nL 364.427131 211.667727 \n\" style=\"fill:none;stroke:#1f77b4;stroke-linecap:square;stroke-width:1.5;\"/>\n   </g>\n   <g id=\"patch_3\">\n    <path d=\"M 44.845313 224.64 \nL 44.845313 7.2 \n\" style=\"fill:none;stroke:#000000;stroke-linecap:square;stroke-linejoin:miter;stroke-width:0.8;\"/>\n   </g>\n   <g id=\"patch_4\">\n    <path d=\"M 379.645313 224.64 \nL 379.645313 7.2 \n\" style=\"fill:none;stroke:#000000;stroke-linecap:square;stroke-linejoin:miter;stroke-width:0.8;\"/>\n   </g>\n   <g id=\"patch_5\">\n    <path d=\"M 44.845313 224.64 \nL 379.645313 224.64 \n\" style=\"fill:none;stroke:#000000;stroke-linecap:square;stroke-linejoin:miter;stroke-width:0.8;\"/>\n   </g>\n   <g id=\"patch_6\">\n    <path d=\"M 44.845313 7.2 \nL 379.645313 7.2 \n\" style=\"fill:none;stroke:#000000;stroke-linecap:square;stroke-linejoin:miter;stroke-width:0.8;\"/>\n   </g>\n  </g>\n </g>\n <defs>\n  <clipPath id=\"p7e23ed6ce2\">\n   <rect height=\"217.44\" width=\"334.8\" x=\"44.845313\" y=\"7.2\"/>\n  </clipPath>\n </defs>\n</svg>\n",
      "image/png": "[encoded data removed]"
     },
     "metadata": {
      "needs_background": "light"
     }
    }
   ],
   "source": [
    "import matplotlib.pyplot as plt\n",
    "plt.plot(tri_wavetable)"
   ]
  },
  {
   "cell_type": "code",
   "execution_count": 182,
   "metadata": {},
   "outputs": [],
   "source": [
    "def reverb(x, impulse_in):\n",
    "    print(impulse_in)\n",
    "    fs, impulse = read(impulse_in)\n",
    "    impulse = np.transpose(impulse)[0]\n",
    "\n",
    "    #impulse = np.concatenate((impulse, np.zeros(len(x)-len(impulse))))\n",
    "    impulse = impulse / np.max(impulse)\n",
    "    x = np.real(impulse)\n",
    "\n",
    "    fft_sig = scipy.fft.fft(x)\n",
    "    fft_impulse = scipy.fft.fft(impulse)\n",
    "    conv = fft_impulse * fft_sig\n",
    "    return scipy.fft.ifft(conv)"
   ]
  },
  {
   "cell_type": "code",
   "execution_count": 183,
   "metadata": {},
   "outputs": [
    {
     "output_type": "stream",
     "name": "stdout",
     "text": [
      "StNicolaesChurch.wav\n"
     ]
    },
    {
     "output_type": "execute_result",
     "data": {
      "text/plain": [
       "array([-1.60035200e-04-2.06590069e-17j,  4.06673785e-04+2.42417342e-16j,\n",
       "        1.75505413e-04+2.04919754e-16j, ...,\n",
       "        1.59266812e-04-1.25783667e-16j,  1.31454891e-04+4.74414100e-16j,\n",
       "        6.94548262e-05+3.52609603e-16j])"
      ]
     },
     "metadata": {},
     "execution_count": 183
    }
   ],
   "source": [
    "reverb(play_list, \"StNicolaesChurch.wav\")"
   ]
  },
  {
   "cell_type": "code",
   "execution_count": null,
   "metadata": {},
   "outputs": [],
   "source": []
  }
 ]
}