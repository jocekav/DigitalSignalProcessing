{
 "cells": [
  {
   "cell_type": "code",
   "execution_count": 4,
   "metadata": {},
   "outputs": [],
   "source": [
    "def adsrEnvelope(samples, attack = .3, decay = .25, sustain = .75, release = .02, sampleRate = 44100):\n",
    "    \n",
    "    #creates an adsr envelope according to function parameters\n",
    "    \n",
    "    import numpy as np\n",
    "    \n",
    "    numSamples = samples.size\n",
    "    \n",
    "    attackSamples = int(attack * sampleRate)\n",
    "    releaseSamples = int(release * sampleRate)\n",
    "    \n",
    "    maxAmplitude = np.max(samples)\n",
    "    \n",
    "    attackArr = np.linspace(0, maxAmplitude, attackSamples)\n",
    "\n",
    "    \n",
    "    if (sustain != False):\n",
    "        decaySamples = int(decay * sampleRate)\n",
    "        sustainSamples = numSamples - (attackSamples + decaySamples + releaseSamples)\n",
    "        if (sustainSamples < 0):\n",
    "            raise Exception('Envelope is too long for duration of the given sound.')\n",
    "        if (sustain > 1 or sustain < 0):\n",
    "            raise Exception('Sustain should be between 0-1')\n",
    "        decayArr = np.linspace(maxAmplitude, sustain, decaySamples)\n",
    "        sustainArr = np.full(sustainSamples, sustain) \n",
    "        releaseArr = np.linspace(sustain, 0, releaseSamples)\n",
    "        totalEnvelope = np.concatenate((attackArr, decayArr, sustainArr, releaseArr))\n",
    "    else:\n",
    "        releaseArr = np.linspace(maxAmplitude, 0, releaseSamples)\n",
    "        leftOver = numSamples - (attackSamples + releaseSamples)\n",
    "        if (leftOver < 0):\n",
    "            raise Exception('Envelope is too long for duration of the given sound.')\n",
    "        emptyArr = np.zeros(leftOver, dtype = int)\n",
    "        totalEnvelope = np.concatenate((attackArr, releaseArr, emptyArr))\n",
    "    \n",
    "    return samples * totalEnvelope"
   ]
  },
  {
   "cell_type": "code",
   "execution_count": 5,
   "metadata": {},
   "outputs": [],
   "source": [
    "def lowHighFilter(cutoff, sampleRate, order, signal, filterType):\n",
    "    \n",
    "    #applies a low or high pass filter given a cutoff, order, and filter type\n",
    "    \n",
    "    if cutoff < 0:\n",
    "        raise Exception('Cutoff frequency cannot be negative')\n",
    "    \n",
    "    from scipy.signal import butter, filtfilt\n",
    "    \n",
    "    nyquist = sampleRate / 2\n",
    "    normalCutoff = cutoff / nyquist\n",
    "    (b, a) = butter(order, normalCutoff, btype = filterType)\n",
    "    filteredSignal = filtfilt(b, a, signal)\n",
    "    return filteredSignal"
   ]
  },
  {
   "cell_type": "code",
   "execution_count": 6,
   "metadata": {},
   "outputs": [],
   "source": [
    "def genSine(frequency, duration, amplitude = 1, sampleRate = 44100, phase = 0):\n",
    "    \n",
    "    #creates a sine wave\n",
    "    \n",
    "    import numpy as np\n",
    "    \n",
    "    time = np.arange(0, duration, 1/sampleRate)\n",
    "    return amplitude * np.sin((2*np.pi * frequency * time) + phase)"
   ]
  },
  {
   "cell_type": "code",
   "execution_count": 7,
   "metadata": {},
   "outputs": [],
   "source": [
    "def genSaw(frequency, duration, numSine = 10, amplitude = 1, sampleRate = 44100, phase = 0):\n",
    "    \n",
    "    #creates a saw wave out of a sum of sine waves\n",
    "    \n",
    "    import numpy as np\n",
    "    \n",
    "    time = np.arange(0, duration, 1/sampleRate)\n",
    "    initSine = np.sin((2*np.pi * frequency * time) + phase)\n",
    "    for i in range(2, numSine + 1):\n",
    "        addSine = (1/i) * np.sin((2*np.pi * (frequency * i) * time) + phase)\n",
    "        initSine = initSine + addSine\n",
    "    return amplitude * initSine"
   ]
  },
  {
   "cell_type": "code",
   "execution_count": 8,
   "metadata": {},
   "outputs": [],
   "source": [
    "def genSquare(frequency, duration, numSine = 10, amplitude = 1, sampleRate = 44100, phase = 0):\n",
    "    \n",
    "    #creates a square wave out of a sum of sine waves\n",
    "    \n",
    "    import numpy as np\n",
    "    \n",
    "    time = np.arange(0, duration, 1/sampleRate)\n",
    "    initSine = 0\n",
    "    for i in range(1, numSine + 1, 2):\n",
    "        addSine = (1/i) * np.sin((2*np.pi * (frequency * i) * time) + phase)\n",
    "        initSine = initSine + addSine\n",
    "    return amplitude * initSine"
   ]
  },
  {
   "cell_type": "code",
   "execution_count": 9,
   "metadata": {},
   "outputs": [],
   "source": [
    "def genTriangle(frequency, duration, numSine = 10, amplitude = 1, sampleRate = 44100, phase = 0):\n",
    "    \n",
    "    #creates a triangle wave out of a sum of sine waves\n",
    "    \n",
    "    import numpy as np\n",
    "    \n",
    "    time = np.arange(0, duration, 1/sampleRate)\n",
    "    amps = [(1/j**2) for j in range(1,numSine+1)]\n",
    "    count = 1\n",
    "    initSine = 0\n",
    "    for i in range(1, numSine + 1):\n",
    "        if (i % 2 == 0):\n",
    "            addSine = 0\n",
    "        else:\n",
    "            addSine = (-(-1**count)/(i**2) * np.sin((2*np.pi * (frequency * i) * time) + phase))\n",
    "        initSine = initSine + addSine\n",
    "        count = count + 1\n",
    "    return amplitude * initSine"
   ]
  },
  {
   "cell_type": "code",
   "execution_count": 10,
   "metadata": {},
   "outputs": [],
   "source": [
    "def addDelay(samples, sampleRate, delayTime, delayFactor):\n",
    "    \n",
    "    # creates a new signal with delay added where for a given delay factor n, there are n repeated\n",
    "    # delays that decrease in amplitude by a factor of 1/n^2\n",
    "    \n",
    "    import numpy as np\n",
    "    \n",
    "    pad = np.zeros(int((sampleRate/1000)*delayTime))\n",
    "    result = np.zeros(samples.size + delayFactor*pad.size)\n",
    "    for i in range (0, delayFactor):\n",
    "        front = np.zeros(int((sampleRate/1000)*delayTime*i))\n",
    "        end = np.zeros(int((sampleRate/1000)*delayTime*(delayFactor - i)))\n",
    "        adjustAmp = (1/(i*i+1))*samples\n",
    "        add = np.concatenate([front, adjustAmp, end])\n",
    "        result += add;\n",
    "    return result"
   ]
  },
  {
   "cell_type": "code",
   "execution_count": 11,
   "metadata": {},
   "outputs": [],
   "source": [
    "def amplitudeModulation(samples, duration, frequency, waveform):\n",
    "    \n",
    "    #performs amplitude modulation on a given signal \n",
    "    \n",
    "    if waveform == 'Sine':\n",
    "        amp = genSine(frequency, duration)\n",
    "    elif waveform == 'Saw':\n",
    "        amp = genSaw(frequency, duration, 20)\n",
    "    elif waveform == 'Square':\n",
    "        amp = genSquare(frequency, duration, 20)\n",
    "    elif waveform == 'Triangle':\n",
    "        amp = genTriangle(frequency, duration, 20)\n",
    "    return samples*amp"
   ]
  },
  {
   "cell_type": "code",
   "execution_count": null,
   "metadata": {},
   "outputs": [],
   "source": []
  }
 ],
 "metadata": {
  "kernelspec": {
   "display_name": "Python 3",
   "language": "python",
   "name": "python3"
  },
  "language_info": {
   "codemirror_mode": {
    "name": "ipython",
    "version": 3
   },
   "file_extension": ".py",
   "mimetype": "text/x-python",
   "name": "python",
   "nbconvert_exporter": "python",
   "pygments_lexer": "ipython3",
   "version": "3.7.4"
  }
 },
 "nbformat": 4,
 "nbformat_minor": 2
}