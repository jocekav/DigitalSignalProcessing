{
 "metadata": {
  "language_info": {
   "codemirror_mode": {
    "name": "ipython",
    "version": 3
   },
   "file_extension": ".py",
   "mimetype": "text/x-python",
   "name": "python",
   "nbconvert_exporter": "python",
   "pygments_lexer": "ipython3",
   "version": "3.8.3"
  },
  "orig_nbformat": 2,
  "kernelspec": {
   "name": "python383jvsc74a57bd0a127848a9391408cc5081dc318d995c3b5b3f67938f34b517db31da63ed0b1a5",
   "display_name": "Python 3.8.3 64-bit ('base': conda)"
  },
  "metadata": {
   "interpreter": {
    "hash": "a127848a9391408cc5081dc318d995c3b5b3f67938f34b517db31da63ed0b1a5"
   }
  }
 },
 "nbformat": 4,
 "nbformat_minor": 2,
 "cells": [
  {
   "cell_type": "code",
   "execution_count": 2,
   "metadata": {},
   "outputs": [
    {
     "output_type": "execute_result",
     "data": {
      "text/plain": [
       "[<midi track 'Piano\\x00' 63 messages>]"
      ]
     },
     "metadata": {},
     "execution_count": 2
    }
   ],
   "source": [
    "import mido\n",
    "import string\n",
    "import numpy as np\n",
    "#mid = mido.MidiFile('.mid', clip=True)\n",
    "mid = mido.MidiFile('test.mid', clip=True)\n",
    "mid.tracks"
   ]
  },
  {
   "cell_type": "code",
   "execution_count": 3,
   "metadata": {},
   "outputs": [],
   "source": [
    "def convert_clocks_per_click(clocks_per_click, user_tempo):\n",
    "    sec_per_click = .6 / (user_tempo * clocks_per_click)\n",
    "    return sec_per_click"
   ]
  },
  {
   "cell_type": "code",
   "execution_count": 4,
   "metadata": {},
   "outputs": [],
   "source": [
    "def convert_velocity(midi_vel):\n",
    "    velocity = midi_vel / 127.0\n",
    "    return velocity"
   ]
  },
  {
   "cell_type": "code",
   "execution_count": 5,
   "metadata": {},
   "outputs": [],
   "source": [
    "def convert_frequency(midi_val):\n",
    "    reference = 440\n",
    "    frequency = (reference / 32) * (2 ** ((midi_val - 9) / 12))\n",
    "    return frequency"
   ]
  },
  {
   "cell_type": "code",
   "execution_count": 6,
   "metadata": {},
   "outputs": [],
   "source": [
    "def parse_MIDI(midi_file, user_tempo):\n",
    "    # ticks_per_quarter = <PPQ from the header>\n",
    "    # µs_per_quarter = <Tempo in latest Set Tempo event>\n",
    "    # µs_per_tick = µs_per_quarter / ticks_per_quarter\n",
    "    # seconds_per_tick = µs_per_tick / 1.000.000\n",
    "    # seconds = ticks * seconds_per_tick\n",
    "    clocks_per_click = 0\n",
    "    midi_info = []\n",
    "    note_value = 0\n",
    "    note_velocity = 0\n",
    "    note_dur = 0\n",
    "    sec_per_click = 0\n",
    "\n",
    "\n",
    "    mid = mido.MidiFile(midi_file, clip=True)\n",
    "    for i in range(0, 2):\n",
    "        for m in mid.tracks[i][:]:\n",
    "            print(m)\n",
    "            m = str(m)\n",
    "            if 'clocks_per_click' in m and clocks_per_click == 0:\n",
    "                # midi.append(m)\n",
    "                temp = m.partition(\"clocks_per_click=\")[2]\n",
    "                clocks_per_click = temp.partition(\" \")[0]\n",
    "                sec_per_click = convert_clocks_per_click(int(clocks_per_click), user_tempo)\n",
    "            if 'note_on' in m:\n",
    "                temp = m.partition(\"note=\")[2]\n",
    "                note_value = temp.partition(\" \")[0]\n",
    "                #convert to frequency\n",
    "                note_value = convert_frequency(int(note_value))\n",
    "                temp = m.partition(\"velocity=\")[2]\n",
    "                note_velocity = temp.partition(\" \")[0]\n",
    "                #convert to 0-1 amplitude\n",
    "                note_velocity = convert_velocity(int(note_velocity))\n",
    "            if 'note_off' in m:\n",
    "                note_dur = m.partition(\"time=\")[2]\n",
    "                #convert to seconds\n",
    "                note_dur = sec_per_click * int(note_dur)\n",
    "                if note_dur != 0:\n",
    "                    midi_info.append((note_value, note_velocity, note_dur))\n",
    "                # print(midi_info)\n",
    "    return midi_info"
   ]
  },
  {
   "cell_type": "code",
   "execution_count": 7,
   "metadata": {},
   "outputs": [
    {
     "output_type": "stream",
     "name": "stdout",
     "text": [
      "<meta message time_signature numerator=4 denominator=4 clocks_per_click=24 notated_32nd_notes_per_beat=8 time=0>\n<meta message key_signature key='C' time=0>\n<meta message set_tempo tempo=250000 time=0>\n<meta message copyright text='Copyright © ' time=0>\n<meta message time_signature numerator=10 denominator=4 clocks_per_click=24 notated_32nd_notes_per_beat=8 time=38400>\n<meta message time_signature numerator=6 denominator=4 clocks_per_click=72 notated_32nd_notes_per_beat=8 time=9600>\n<meta message end_of_track time=1>\nprogram_change channel=0 program=0 time=0\ncontrol_change channel=0 control=121 value=0 time=0\ncontrol_change channel=0 control=64 value=0 time=0\ncontrol_change channel=0 control=91 value=48 time=0\ncontrol_change channel=0 control=10 value=51 time=0\ncontrol_change channel=0 control=7 value=100 time=0\n<meta message track_name name='Piano' time=0>\npitchwheel channel=0 pitch=0 time=0\n<meta message lyrics text='1/1 ' time=0>\nnote_on channel=0 note=60 velocity=76 time=0\nnote_off channel=0 note=60 velocity=0 time=3840\npitchwheel channel=0 pitch=-2022 time=0\n<meta message lyrics text='12/11 ' time=0>\nnote_on channel=0 note=62 velocity=77 time=0\nnote_off channel=0 note=62 velocity=0 time=3840\npitchwheel channel=0 pitch=-241 time=0\n<meta message lyrics text='32/27 ' time=0>\nnote_on channel=0 note=63 velocity=77 time=0\nnote_off channel=0 note=63 velocity=0 time=3840\npitchwheel channel=0 pitch=1437 time=0\n<meta message lyrics text='9/7 ' time=0>\nnote_on channel=0 note=64 velocity=77 time=0\nnote_off channel=0 note=64 velocity=0 time=3840\npitchwheel channel=0 pitch=-81 time=0\n<meta message lyrics text='4/3 ' time=0>\nnote_on channel=0 note=65 velocity=77 time=0\nnote_off channel=0 note=65 velocity=0 time=3840\npitchwheel channel=0 pitch=1798 time=0\n<meta message lyrics text='132/91 ' time=0>\nnote_on channel=0 note=66 velocity=77 time=0\nnote_off channel=0 note=66 velocity=0 time=3840\npitchwheel channel=0 pitch=80 time=0\n<meta message lyrics text='3/2 ' time=0>\nnote_on channel=0 note=67 velocity=77 time=0\nnote_off channel=0 note=67 velocity=0 time=3840\npitchwheel channel=0 pitch=-1942 time=0\n<meta message lyrics text='18/11 ' time=0>\nnote_on channel=0 note=69 velocity=77 time=0\nnote_off channel=0 note=69 velocity=0 time=3840\npitchwheel channel=0 pitch=-161 time=0\n<meta message lyrics text='16/9 ' time=0>\nnote_on channel=0 note=70 velocity=77 time=0\nnote_off channel=0 note=70 velocity=0 time=3840\npitchwheel channel=0 pitch=1718 time=0\n<meta message lyrics text='176/91 ' time=0>\nnote_on channel=0 note=71 velocity=77 time=0\nnote_off channel=0 note=71 velocity=0 time=3840\npitchwheel channel=0 pitch=0 time=0\n<meta message lyrics text='2/1 ' time=0>\nnote_on channel=0 note=72 velocity=77 time=0\nnote_off channel=0 note=72 velocity=0 time=5760\npitchwheel channel=0 pitch=0 time=3840\nnote_on channel=0 note=60 velocity=76 time=0\nnote_on channel=0 note=72 velocity=76 time=0\nnote_off channel=0 note=60 velocity=0 time=5760\nnote_off channel=0 note=72 velocity=0 time=0\n<meta message end_of_track time=1>\n"
     ]
    }
   ],
   "source": [
    "note_list = parse_MIDI('scale.mid', 60)"
   ]
  },
  {
   "cell_type": "code",
   "execution_count": 8,
   "metadata": {},
   "outputs": [],
   "source": [
    "def genSine(frequency, duration, amplitude = 1, sampleRate = 44100, phase = 0):\n",
    "    \n",
    "    #creates a sine wave\n",
    "    \n",
    "    import numpy as np\n",
    "    \n",
    "    time = np.arange(0, duration, 1/sampleRate)\n",
    "    return amplitude * np.sin((2*np.pi * frequency * time) + phase)"
   ]
  },
  {
   "cell_type": "code",
   "execution_count": 9,
   "metadata": {},
   "outputs": [],
   "source": [
    "def adsr(x,a=.25,d=.25,s=.25,r=.25,fs=44100):\n",
    "    total_len = len(x)\n",
    "    a_len = int(.25 * len(x))\n",
    "    d_len = int(.25 * len(x))\n",
    "    s_len = int(.25 * len(x))\n",
    "    r_len = int(.25 * len(x))\n",
    "\n",
    "    xa= np.arange(0, a_len)                                                     #sets up size of attack portion\n",
    "    ya= np.linspace(0,np.max(x),xa.size)                                       #creates attack envelope\n",
    "\n",
    "    xd= np.arange(a_len, a_len+d_len)                                                 #sets up size of decay portion\n",
    "    yd= np.linspace(np.max(x),.5,xd.size)                                        #creates attack envelope\n",
    "\n",
    "    xs= np.arange(a_len+d_len, a_len+d_len+s_len)                               #sets up size of sustain portion\n",
    "    ys= np.linspace(.5,.5,xs.size)                                            #creates sustain envelope\n",
    "\n",
    "    xr= np.arange(a_len+d_len+s_len, a_len+d_len+s_len+r_len)               #sets up size of release portion\n",
    "    yr= np.linspace(.5,0,xr.size)\n",
    "\n",
    "    env=np.concatenate((ya,yd,ys,yr))                                          #creates full adsr envelope array\n",
    "    adsrnote=x*env[0:x.size]               \n",
    "                                               #applies adsr envelope to input array\n",
    "    return adsrnote"
   ]
  },
  {
   "cell_type": "code",
   "execution_count": 24,
   "metadata": {},
   "outputs": [],
   "source": [
    "def lfo(x, freq, amplitude=1, fs=44100):\n",
    "    t = np.arange(0,len(x)/44100,1/44100)\n",
    "    lfo = x * amplitude * np.cos(2*np.pi*freq*t)\n",
    "    return lfo"
   ]
  },
  {
   "cell_type": "code",
   "execution_count": null,
   "metadata": {},
   "outputs": [],
   "source": [
    "def reverb(x, impulse):\n",
    "    "
   ]
  },
  {
   "cell_type": "code",
   "execution_count": 33,
   "metadata": {},
   "outputs": [],
   "source": [
    "#function that applies a low-pass filter\n",
    "#x is the original signal\n",
    "#cutoff is the cutoff frequency\n",
    "#order is the order of the filter\n",
    "def lowpass(x, cutoff=440, order=10, fs=44100):\n",
    "    nyq = 0.5 * fs\n",
    "    normal_cutoff = cutoff / nyq\n",
    "\n",
    "    from scipy.signal import butter, filtfilt\n",
    "\n",
    "    (b,a) = butter(order, normal_cutoff, btype = 'low', analog = False)\n",
    "    filt_sig = filtfilt(b,a,x)\n",
    "    \n",
    "    return filt_sig"
   ]
  },
  {
   "cell_type": "code",
   "execution_count": 34,
   "metadata": {},
   "outputs": [
    {
     "output_type": "execute_result",
     "data": {
      "text/plain": [
       "(523.2511306011972, 0.5984251968503937, 2.4)"
      ]
     },
     "metadata": {},
     "execution_count": 34
    }
   ],
   "source": [
    "note_list[-1]"
   ]
  },
  {
   "cell_type": "code",
   "execution_count": 40,
   "metadata": {},
   "outputs": [],
   "source": [
    "play_list = np.array([])\n",
    "for i in note_list:\n",
    "    note_sine = genSine(i[0], i[2], i[1])\n",
    "    note_sine = adsr(note_sine)\n",
    "    play_list = np.concatenate((play_list, note_sine))\n",
    "    play_list = lfo(play_list, 2)\n",
    "    play_list = lowpass(play_list, cutoff=440)\n",
    "# print(play_list)\n",
    "# print(lfo(200, len(play_list)))\n",
    "# t = np.arange(0,len(play_list)/44100,1/44100)\n",
    "# print(np.cos(2*np.pi*5*t))\n",
    "# play_list = np.multiply(play_list, np.cos(2*np.pi*5*t))\n",
    "# print(play_list)"
   ]
  },
  {
   "cell_type": "code",
   "execution_count": 36,
   "metadata": {},
   "outputs": [
    {
     "output_type": "execute_result",
     "data": {
      "text/plain": [
       "array([1.        , 0.99959404, 0.99837649, ..., 0.99634834, 0.99837649,\n",
       "       0.99959404])"
      ]
     },
     "metadata": {},
     "execution_count": 36
    }
   ],
   "source": [
    "t = np.arange(0, 2, 1/44100)\n",
    "np.cos(2*np.pi*200*t)"
   ]
  },
  {
   "cell_type": "code",
   "execution_count": 41,
   "metadata": {},
   "outputs": [],
   "source": [
    "from IPython.display import Audio\n",
    "import scipy\n",
    "from scipy.io.wavfile import write\n",
    "write(\"test.wav\", 44100, play_list)"
   ]
  },
  {
   "source": [
    "convert_clocks_per_click(36, 60)"
   ],
   "cell_type": "code",
   "metadata": {},
   "execution_count": 13,
   "outputs": [
    {
     "output_type": "execute_result",
     "data": {
      "text/plain": [
       "0.0002777777777777778"
      ]
     },
     "metadata": {},
     "execution_count": 13
    }
   ]
  },
  {
   "cell_type": "code",
   "execution_count": 14,
   "metadata": {},
   "outputs": [
    {
     "output_type": "execute_result",
     "data": {
      "text/plain": [
       "0.9448818897637795"
      ]
     },
     "metadata": {},
     "execution_count": 14
    }
   ],
   "source": [
    "convert_velocity(120)"
   ]
  },
  {
   "cell_type": "code",
   "execution_count": 15,
   "metadata": {},
   "outputs": [
    {
     "output_type": "execute_result",
     "data": {
      "text/plain": [
       "440.0"
      ]
     },
     "metadata": {},
     "execution_count": 15
    }
   ],
   "source": [
    "convert_frequency(69)"
   ]
  },
  {
   "cell_type": "code",
   "execution_count": null,
   "metadata": {},
   "outputs": [],
   "source": []
  },
  {
   "cell_type": "code",
   "execution_count": null,
   "metadata": {},
   "outputs": [],
   "source": []
  },
  {
   "cell_type": "code",
   "execution_count": null,
   "metadata": {},
   "outputs": [],
   "source": []
  }
 ]
}